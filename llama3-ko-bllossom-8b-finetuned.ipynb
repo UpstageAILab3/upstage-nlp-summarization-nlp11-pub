{
 "cells": [
  {
   "cell_type": "markdown",
   "metadata": {},
   "source": [
    "##### Reference\n",
    "https://blog.naver.com/PostView.naver?blogId=se2n&logNo=223443729640&parentCategoryNo=&categoryNo=74&viewDate=&isShowPopularPosts=false&from=postView"
   ]
  },
  {
   "cell_type": "code",
   "execution_count": null,
   "metadata": {},
   "outputs": [],
   "source": [
    "import torch\n",
    "from datasets import load_dataset\n",
    "from transformers import AutoTokenizer, AutoModelForCausalLM, BitsAndBytesConfig, TrainingArguments\n",
    "from transformers import EarlyStoppingCallback\n",
    "from peft import LoraConfig, get_peft_model, prepare_model_for_kbit_training\n",
    "from trl import SFTTrainer\n",
    "import gc"
   ]
  },
  {
   "cell_type": "code",
   "execution_count": null,
   "metadata": {},
   "outputs": [],
   "source": [
    "train_data = load_dataset('csv', data_files='./data/train.csv')['train']\n",
    "eval_data = load_dataset('csv', data_files='./data/dev.csv')['train']"
   ]
  },
  {
   "cell_type": "code",
   "execution_count": null,
   "metadata": {},
   "outputs": [],
   "source": [
    "def prompts(example):\n",
    "    USER_PROMPT = \"다음 대화를 요약해주세요.\\n\\n{dialogue}\"\n",
    "    ASSISTANT_PROMPT = \"{summary}\"\n",
    "\n",
    "    prompts = []\n",
    "\n",
    "    for dialogue, summary in zip(example[\"dialogue\"], example[\"summary\"]):\n",
    "        prompt = f'''<|begin_of_text|><|start_header_id|>user<|end_header_id|>\\n\\n{USER_PROMPT.format(dialogue=dialogue)}<|eot_id|>\\n<|start_header_id|>assistant<|end_header_id|>\\n\\n{ASSISTANT_PROMPT.format(summary=summary)}<|eot_id|>'''\n",
    "        # print(prompt)\n",
    "        prompts.append(prompt)\n",
    "    return prompts"
   ]
  },
  {
   "cell_type": "code",
   "execution_count": null,
   "metadata": {},
   "outputs": [],
   "source": [
    "BASE_MODEL = \"MLP-KTLim/llama-3-Korean-Bllossom-8B\"\n",
    "\n",
    "# BitsAndBytes 설정\n",
    "bnb_config = BitsAndBytesConfig(\n",
    "    load_in_4bit=True,\n",
    "    bnb_4bit_quant_type=\"nf4\",\n",
    "    bnb_4bit_compute_dtype=torch.float16,\n",
    "    bnb_4bit_use_double_quant=True,\n",
    ")\n",
    "\n",
    "# 모델 로드\n",
    "model = AutoModelForCausalLM.from_pretrained(\n",
    "    BASE_MODEL,\n",
    "    quantization_config=bnb_config,\n",
    "    device_map=\"auto\",\n",
    "    torch_dtype=torch.float16,\n",
    ")"
   ]
  },
  {
   "cell_type": "code",
   "execution_count": null,
   "metadata": {},
   "outputs": [],
   "source": [
    "# 모델의 그래디언트 체크포인팅을 활성화하여 메모리 사용량 최적화\n",
    "model.gradient_checkpointing_enable()\n",
    "\n",
    "# 모델의 파라미터가 k-비트 양자화에 적합하도록 조정 준비\n",
    "model = prepare_model_for_kbit_training(model)\n",
    "\n",
    "# LoRA 설정 : 양자화된 모델에서 Adaptor를 붙여서 학습할 파라미터만 따로 구성함\n",
    "lora_config = LoraConfig(\n",
    "    r=8,\n",
    "    lora_alpha = 32,\n",
    "    lora_dropout = 0.1,\n",
    "    target_modules=[\"q_proj\", \"o_proj\", \"k_proj\", \"v_proj\", \"gate_proj\", \"up_proj\", \"down_proj\"],\n",
    "    bias=\"none\",\n",
    "    task_type=\"CAUSAL_LM\",\n",
    ")\n",
    "\n",
    "# freezing\n",
    "model = get_peft_model(model, lora_config)\n",
    "\n",
    "model.print_trainable_parameters()"
   ]
  },
  {
   "cell_type": "code",
   "execution_count": null,
   "metadata": {},
   "outputs": [],
   "source": [
    "tokenizer = AutoTokenizer.from_pretrained(BASE_MODEL)\n",
    "tokenizer.pad_token = tokenizer.eos_token\n",
    "tokenizer.padding_side = 'right'"
   ]
  },
  {
   "cell_type": "code",
   "execution_count": null,
   "metadata": {},
   "outputs": [],
   "source": [
    "from transformers.trainer_callback import TrainerCallback\n",
    "\n",
    "class CUDAMemoryCleanupCallback(TrainerCallback):\n",
    "    def __init__(self, cleanup_interval=100):\n",
    "        self.cleanup_interval = cleanup_interval\n",
    "    \n",
    "    def on_step_end(self, args, state, control, **kwargs):\n",
    "        if state.global_step % self.cleanup_interval == 0:\n",
    "            torch.cuda.empty_cache()\n",
    "            gc.collect()\n",
    "            print(f\"Step {state.global_step}: CUDA memory cleaned up.\")\n",
    "            print(f\"Current GPU memory usage: {torch.cuda.memory_allocated() / 1024**2:.2f} MB\")\n",
    "\n",
    "cuda_cleanup_callback = CUDAMemoryCleanupCallback(cleanup_interval=50)"
   ]
  },
  {
   "cell_type": "code",
   "execution_count": null,
   "metadata": {},
   "outputs": [],
   "source": [
    "early_stopping = EarlyStoppingCallback(\n",
    "    early_stopping_patience=5,  # 5번의 evaluation동안 개선되지 않으면 학습 중단\n",
    "    early_stopping_threshold=0.001  # 개선 폭이 0.001 미만이면 개선되지 않는 것으로 간주\n",
    ")"
   ]
  },
  {
   "cell_type": "code",
   "execution_count": null,
   "metadata": {},
   "outputs": [],
   "source": [
    "trainer = SFTTrainer(\n",
    "    model=model,\n",
    "    train_dataset=train_data,\n",
    "    eval_dataset=eval_data,\n",
    "    max_seq_length=512,\n",
    "    args=TrainingArguments(\n",
    "        output_dir=\"outputs\",\n",
    "        num_train_epochs = 10,\n",
    "        per_device_train_batch_size=2,\n",
    "        gradient_accumulation_steps=4,\n",
    "        optim=\"paged_adamw_8bit\",\n",
    "        warmup_ratio=0.05,\n",
    "        learning_rate=2e-5,\n",
    "        fp16=True,\n",
    "        logging_steps=100,\n",
    "        push_to_hub=False,\n",
    "        report_to='none',\n",
    "        save_strategy=\"steps\",\n",
    "        save_total_limit=3,  # 최대 3개의 체크포인트 유지\n",
    "        save_steps=300,  # 300 스텝마다 저장\n",
    "        eval_steps=300,  # 300 스텝마다 평가\n",
    "        evaluation_strategy=\"steps\",  # 평가 전략 (체크포인트 저장과 동일한 주기로 설정)\n",
    "        load_best_model_at_end=True,  # 학습 종료 시 최고 성능 모델 로드\n",
    "        metric_for_best_model=\"loss\",  # loss를 기준으로 최고 성능 판단\n",
    "    ),\n",
    "    peft_config=lora_config,\n",
    "    formatting_func=prompts,\n",
    "    callbacks=[cuda_cleanup_callback, early_stopping]\n",
    ")\n",
    "\n",
    "trainer.train()"
   ]
  },
  {
   "cell_type": "code",
   "execution_count": null,
   "metadata": {},
   "outputs": [],
   "source": [
    "output_dir = \"./fine_tuned_model\"\n",
    "trainer.model.save_pretrained(output_dir)\n",
    "tokenizer.save_pretrained(output_dir)\n",
    "print(f\"파인튜닝된 모델이 {output_dir}에 저장되었습니다.\")"
   ]
  }
 ],
 "metadata": {
  "kernelspec": {
   "display_name": "base",
   "language": "python",
   "name": "python3"
  },
  "language_info": {
   "codemirror_mode": {
    "name": "ipython",
    "version": 3
   },
   "file_extension": ".py",
   "mimetype": "text/x-python",
   "name": "python",
   "nbconvert_exporter": "python",
   "pygments_lexer": "ipython3",
   "version": "3.10.13"
  }
 },
 "nbformat": 4,
 "nbformat_minor": 2
}
