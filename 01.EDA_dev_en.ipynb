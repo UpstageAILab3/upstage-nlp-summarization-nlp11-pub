{
 "cells": [
  {
   "cell_type": "code",
   "execution_count": 1,
   "metadata": {},
   "outputs": [
    {
     "name": "stdout",
     "output_type": "stream",
     "text": [
      "Requirement already satisfied: pandas in /opt/conda/lib/python3.10/site-packages (2.1.4)\n",
      "Requirement already satisfied: numpy in /opt/conda/lib/python3.10/site-packages (1.23.5)\n",
      "Collecting matplotlib\n",
      "  Obtaining dependency information for matplotlib from https://files.pythonhosted.org/packages/8d/9d/d06860390f9d154fa884f1740a5456378fb153ff57443c91a4a32bab7092/matplotlib-3.9.2-cp310-cp310-manylinux_2_17_x86_64.manylinux2014_x86_64.whl.metadata\n",
      "  Downloading matplotlib-3.9.2-cp310-cp310-manylinux_2_17_x86_64.manylinux2014_x86_64.whl.metadata (11 kB)\n",
      "Collecting seaborn\n",
      "  Obtaining dependency information for seaborn from https://files.pythonhosted.org/packages/83/11/00d3c3dfc25ad54e731d91449895a79e4bf2384dc3ac01809010ba88f6d5/seaborn-0.13.2-py3-none-any.whl.metadata\n",
      "  Downloading seaborn-0.13.2-py3-none-any.whl.metadata (5.4 kB)\n",
      "Collecting nltk\n",
      "  Obtaining dependency information for nltk from https://files.pythonhosted.org/packages/4d/66/7d9e26593edda06e8cb531874633f7c2372279c3b0f46235539fe546df8b/nltk-3.9.1-py3-none-any.whl.metadata\n",
      "  Downloading nltk-3.9.1-py3-none-any.whl.metadata (2.9 kB)\n",
      "Collecting wordcloud\n",
      "  Obtaining dependency information for wordcloud from https://files.pythonhosted.org/packages/90/be/1a7a488f5edcfae6746ffb91e792a1795b6cc058364ea6888b3878d3476f/wordcloud-1.9.3-cp310-cp310-manylinux_2_17_x86_64.manylinux2014_x86_64.whl.metadata\n",
      "  Downloading wordcloud-1.9.3-cp310-cp310-manylinux_2_17_x86_64.manylinux2014_x86_64.whl.metadata (3.4 kB)\n",
      "Requirement already satisfied: python-dateutil>=2.8.2 in /opt/conda/lib/python3.10/site-packages (from pandas) (2.8.2)\n",
      "Requirement already satisfied: pytz>=2020.1 in /opt/conda/lib/python3.10/site-packages (from pandas) (2023.3.post1)\n",
      "Requirement already satisfied: tzdata>=2022.1 in /opt/conda/lib/python3.10/site-packages (from pandas) (2023.3)\n",
      "Collecting contourpy>=1.0.1 (from matplotlib)\n",
      "  Obtaining dependency information for contourpy>=1.0.1 from https://files.pythonhosted.org/packages/99/e6/d11966962b1aa515f5586d3907ad019f4b812c04e4546cc19ebf62b5178e/contourpy-1.3.0-cp310-cp310-manylinux_2_17_x86_64.manylinux2014_x86_64.whl.metadata\n",
      "  Downloading contourpy-1.3.0-cp310-cp310-manylinux_2_17_x86_64.manylinux2014_x86_64.whl.metadata (5.4 kB)\n",
      "Collecting cycler>=0.10 (from matplotlib)\n",
      "  Obtaining dependency information for cycler>=0.10 from https://files.pythonhosted.org/packages/e7/05/c19819d5e3d95294a6f5947fb9b9629efb316b96de511b418c53d245aae6/cycler-0.12.1-py3-none-any.whl.metadata\n",
      "  Downloading cycler-0.12.1-py3-none-any.whl.metadata (3.8 kB)\n",
      "Collecting fonttools>=4.22.0 (from matplotlib)\n",
      "  Obtaining dependency information for fonttools>=4.22.0 from https://files.pythonhosted.org/packages/56/61/ad19cad430aacbc3418be503e1f6daed9375c997a4e32b78a91195b3054a/fonttools-4.53.1-cp310-cp310-manylinux_2_17_x86_64.manylinux2014_x86_64.whl.metadata\n",
      "  Downloading fonttools-4.53.1-cp310-cp310-manylinux_2_17_x86_64.manylinux2014_x86_64.whl.metadata (162 kB)\n",
      "\u001b[2K     \u001b[90m━━━━━━━━━━━━━━━━━━━━━━━━━━━━━━━━━━━━━\u001b[0m \u001b[32m162.6/162.6 kB\u001b[0m \u001b[31m856.9 kB/s\u001b[0m eta \u001b[36m0:00:00\u001b[0ma \u001b[36m0:00:01\u001b[0m\n",
      "\u001b[?25hCollecting kiwisolver>=1.3.1 (from matplotlib)\n",
      "  Obtaining dependency information for kiwisolver>=1.3.1 from https://files.pythonhosted.org/packages/6f/40/4ab1fdb57fced80ce5903f04ae1aed7c1d5939dda4fd0c0aa526c12fe28a/kiwisolver-1.4.5-cp310-cp310-manylinux_2_12_x86_64.manylinux2010_x86_64.whl.metadata\n",
      "  Downloading kiwisolver-1.4.5-cp310-cp310-manylinux_2_12_x86_64.manylinux2010_x86_64.whl.metadata (6.4 kB)\n",
      "Requirement already satisfied: packaging>=20.0 in /opt/conda/lib/python3.10/site-packages (from matplotlib) (23.1)\n",
      "Requirement already satisfied: pillow>=8 in /opt/conda/lib/python3.10/site-packages (from matplotlib) (9.4.0)\n",
      "Collecting pyparsing>=2.3.1 (from matplotlib)\n",
      "  Obtaining dependency information for pyparsing>=2.3.1 from https://files.pythonhosted.org/packages/e5/0c/0e3c05b1c87bb6a1c76d281b0f35e78d2d80ac91b5f8f524cebf77f51049/pyparsing-3.1.4-py3-none-any.whl.metadata\n",
      "  Downloading pyparsing-3.1.4-py3-none-any.whl.metadata (5.1 kB)\n",
      "Requirement already satisfied: click in /opt/conda/lib/python3.10/site-packages (from nltk) (8.0.4)\n",
      "Collecting joblib (from nltk)\n",
      "  Obtaining dependency information for joblib from https://files.pythonhosted.org/packages/91/29/df4b9b42f2be0b623cbd5e2140cafcaa2bef0759a00b7b70104dcfe2fb51/joblib-1.4.2-py3-none-any.whl.metadata\n",
      "  Downloading joblib-1.4.2-py3-none-any.whl.metadata (5.4 kB)\n",
      "Requirement already satisfied: regex>=2021.8.3 in /opt/conda/lib/python3.10/site-packages (from nltk) (2023.10.3)\n",
      "Requirement already satisfied: tqdm in /opt/conda/lib/python3.10/site-packages (from nltk) (4.66.1)\n",
      "Requirement already satisfied: six>=1.5 in /opt/conda/lib/python3.10/site-packages (from python-dateutil>=2.8.2->pandas) (1.16.0)\n",
      "Downloading matplotlib-3.9.2-cp310-cp310-manylinux_2_17_x86_64.manylinux2014_x86_64.whl (8.3 MB)\n",
      "\u001b[2K   \u001b[90m━━━━━━━━━━━━━━━━━━━━━━━━━━━━━━━━━━━━━━━━\u001b[0m \u001b[32m8.3/8.3 MB\u001b[0m \u001b[31m17.3 MB/s\u001b[0m eta \u001b[36m0:00:00\u001b[0m00:01\u001b[0m00:01\u001b[0m\n",
      "\u001b[?25hDownloading seaborn-0.13.2-py3-none-any.whl (294 kB)\n",
      "\u001b[2K   \u001b[90m━━━━━━━━━━━━━━━━━━━━━━━━━━━━━━━━━━━━━━━━\u001b[0m \u001b[32m294.9/294.9 kB\u001b[0m \u001b[31m28.8 MB/s\u001b[0m eta \u001b[36m0:00:00\u001b[0m\n",
      "\u001b[?25hDownloading nltk-3.9.1-py3-none-any.whl (1.5 MB)\n",
      "\u001b[2K   \u001b[90m━━━━━━━━━━━━━━━━━━━━━━━━━━━━━━━━━━━━━━━━\u001b[0m \u001b[32m1.5/1.5 MB\u001b[0m \u001b[31m52.1 MB/s\u001b[0m eta \u001b[36m0:00:00\u001b[0m\n",
      "\u001b[?25hDownloading wordcloud-1.9.3-cp310-cp310-manylinux_2_17_x86_64.manylinux2014_x86_64.whl (511 kB)\n",
      "\u001b[2K   \u001b[90m━━━━━━━━━━━━━━━━━━━━━━━━━━━━━━━━━━━━━━━━\u001b[0m \u001b[32m511.1/511.1 kB\u001b[0m \u001b[31m37.3 MB/s\u001b[0m eta \u001b[36m0:00:00\u001b[0m\n",
      "\u001b[?25hDownloading contourpy-1.3.0-cp310-cp310-manylinux_2_17_x86_64.manylinux2014_x86_64.whl (322 kB)\n",
      "\u001b[2K   \u001b[90m━━━━━━━━━━━━━━━━━━━━━━━━━━━━━━━━━━━━━━━━\u001b[0m \u001b[32m322.0/322.0 kB\u001b[0m \u001b[31m28.5 MB/s\u001b[0m eta \u001b[36m0:00:00\u001b[0m\n",
      "\u001b[?25hDownloading cycler-0.12.1-py3-none-any.whl (8.3 kB)\n",
      "Downloading fonttools-4.53.1-cp310-cp310-manylinux_2_17_x86_64.manylinux2014_x86_64.whl (4.6 MB)\n",
      "\u001b[2K   \u001b[90m━━━━━━━━━━━━━━━━━━━━━━━━━━━━━━━━━━━━━━━━\u001b[0m \u001b[32m4.6/4.6 MB\u001b[0m \u001b[31m40.8 MB/s\u001b[0m eta \u001b[36m0:00:00\u001b[0m00:01\u001b[0m:00:01\u001b[0m\n",
      "\u001b[?25hDownloading kiwisolver-1.4.5-cp310-cp310-manylinux_2_12_x86_64.manylinux2010_x86_64.whl (1.6 MB)\n",
      "\u001b[2K   \u001b[90m━━━━━━━━━━━━━━━━━━━━━━━━━━━━━━━━━━━━━━━━\u001b[0m \u001b[32m1.6/1.6 MB\u001b[0m \u001b[31m70.9 MB/s\u001b[0m eta \u001b[36m0:00:00\u001b[0m\n",
      "\u001b[?25hDownloading pyparsing-3.1.4-py3-none-any.whl (104 kB)\n",
      "\u001b[2K   \u001b[90m━━━━━━━━━━━━━━━━━━━━━━━━━━━━━━━━━━━━━━━━\u001b[0m \u001b[32m104.1/104.1 kB\u001b[0m \u001b[31m11.3 MB/s\u001b[0m eta \u001b[36m0:00:00\u001b[0m\n",
      "\u001b[?25hDownloading joblib-1.4.2-py3-none-any.whl (301 kB)\n",
      "\u001b[2K   \u001b[90m━━━━━━━━━━━━━━━━━━━━━━━━━━━━━━━━━━━━━━━━\u001b[0m \u001b[32m301.8/301.8 kB\u001b[0m \u001b[31m27.4 MB/s\u001b[0m eta \u001b[36m0:00:00\u001b[0m\n",
      "\u001b[?25hInstalling collected packages: pyparsing, kiwisolver, joblib, fonttools, cycler, contourpy, nltk, matplotlib, wordcloud, seaborn\n",
      "Successfully installed contourpy-1.3.0 cycler-0.12.1 fonttools-4.53.1 joblib-1.4.2 kiwisolver-1.4.5 matplotlib-3.9.2 nltk-3.9.1 pyparsing-3.1.4 seaborn-0.13.2 wordcloud-1.9.3\n",
      "\u001b[33mWARNING: Running pip as the 'root' user can result in broken permissions and conflicting behaviour with the system package manager. It is recommended to use a virtual environment instead: https://pip.pypa.io/warnings/venv\u001b[0m\u001b[33m\n",
      "\u001b[0mNote: you may need to restart the kernel to use updated packages.\n"
     ]
    }
   ],
   "source": [
    "pip install pandas numpy matplotlib seaborn nltk wordcloud"
   ]
  },
  {
   "cell_type": "code",
   "execution_count": 1,
   "metadata": {},
   "outputs": [
    {
     "name": "stderr",
     "output_type": "stream",
     "text": [
      "[nltk_data] Downloading package punkt to\n",
      "[nltk_data]     /data/ephemeral/home/nltk_data...\n",
      "[nltk_data]   Package punkt is already up-to-date!\n",
      "[nltk_data] Downloading package stopwords to\n",
      "[nltk_data]     /data/ephemeral/home/nltk_data...\n",
      "[nltk_data]   Package stopwords is already up-to-date!\n"
     ]
    },
    {
     "data": {
      "text/plain": [
       "True"
      ]
     },
     "execution_count": 1,
     "metadata": {},
     "output_type": "execute_result"
    }
   ],
   "source": [
    "import pandas as pd\n",
    "import numpy as np\n",
    "import matplotlib.pyplot as plt\n",
    "import seaborn as sns\n",
    "from wordcloud import WordCloud\n",
    "from collections import Counter\n",
    "import nltk\n",
    "from nltk.corpus import stopwords\n",
    "from nltk.tokenize import word_tokenize\n",
    "\n",
    "# NLTK 데이터 다운로드 (처음 한 번만 실행)\n",
    "nltk.download('punkt')\n",
    "nltk.download('stopwords')"
   ]
  },
  {
   "cell_type": "code",
   "execution_count": 2,
   "metadata": {},
   "outputs": [
    {
     "data": {
      "text/html": [
       "<div>\n",
       "<style scoped>\n",
       "    .dataframe tbody tr th:only-of-type {\n",
       "        vertical-align: middle;\n",
       "    }\n",
       "\n",
       "    .dataframe tbody tr th {\n",
       "        vertical-align: top;\n",
       "    }\n",
       "\n",
       "    .dataframe thead th {\n",
       "        text-align: right;\n",
       "    }\n",
       "</style>\n",
       "<table border=\"1\" class=\"dataframe\">\n",
       "  <thead>\n",
       "    <tr style=\"text-align: right;\">\n",
       "      <th></th>\n",
       "      <th>fname</th>\n",
       "      <th>dialogue</th>\n",
       "      <th>summary</th>\n",
       "      <th>topic</th>\n",
       "      <th>dialogue_en</th>\n",
       "      <th>summary_en</th>\n",
       "      <th>topic_en</th>\n",
       "    </tr>\n",
       "  </thead>\n",
       "  <tbody>\n",
       "    <tr>\n",
       "      <th>0</th>\n",
       "      <td>dev_400</td>\n",
       "      <td>#Person1#: 업그레이드를 진행하기 위해 회계 시스템을 오프라인으로 전환해야 ...</td>\n",
       "      <td>#Person1#은 업그레이드를 위해 회계 시스템을 오프라인으로 전환해야 한다고 #...</td>\n",
       "      <td>시스템 업그레이드</td>\n",
       "      <td>#Person1#: We need to take the accounting syst...</td>\n",
       "      <td>#Person1# informs #Person2# that the accountin...</td>\n",
       "      <td>System Upgrades</td>\n",
       "    </tr>\n",
       "    <tr>\n",
       "      <th>1</th>\n",
       "      <td>dev_401</td>\n",
       "      <td>#Person1#: 실례합니다. 재처방 받길 원합니다.#Person2#: 병에 적혀...</td>\n",
       "      <td>#Person1#은 처방전을 재처방 받고자 #Person2#에게 요청하지만, 이미 ...</td>\n",
       "      <td>처방전 재처방</td>\n",
       "      <td>#Person1#: Excuse me. I want to get a refill.#...</td>\n",
       "      <td>#Person1# asks #Person2# to refill a prescript...</td>\n",
       "      <td>Prescription refills</td>\n",
       "    </tr>\n",
       "    <tr>\n",
       "      <th>2</th>\n",
       "      <td>dev_402</td>\n",
       "      <td>#Person1#: 자신을 좋은 엄마라고 생각하십니까?#Person2#: 네, 저는...</td>\n",
       "      <td>#Person2#는 #Person2#에게 어떻게 좋은 엄마이자 성공적인 커리어 우먼...</td>\n",
       "      <td>사회 모임</td>\n",
       "      <td>#Person1#: Do you consider yourself a good mot...</td>\n",
       "      <td>#Person2# shares with #Person2# how to be a go...</td>\n",
       "      <td>Social Gatherings</td>\n",
       "    </tr>\n",
       "    <tr>\n",
       "      <th>3</th>\n",
       "      <td>dev_403</td>\n",
       "      <td>#Person1#: 이 직책에 자격이 있다고 생각하는 이유는 무엇인가요?#Perso...</td>\n",
       "      <td>#Person1#이 #Person2#를 인터뷰하고, 자격, 기술적 직위, 원본 자격...</td>\n",
       "      <td>직무 인터뷰</td>\n",
       "      <td>#Person1#: Why do you think you are qualified ...</td>\n",
       "      <td>#Person1# interviewed #Person2# and was provid...</td>\n",
       "      <td>Job Interviews</td>\n",
       "    </tr>\n",
       "    <tr>\n",
       "      <th>4</th>\n",
       "      <td>dev_404</td>\n",
       "      <td>#Person1#: 택시! 택시!#Person2#: 어디로 가시겠습니까, 선생님?#...</td>\n",
       "      <td>#Person1#은 #Person2#의 택시를 타고 기차역으로 갑니다. #Perso...</td>\n",
       "      <td>택시기사와 대화</td>\n",
       "      <td>#Person1#: Taxi! Taxi!#Person2#: Where to, sir...</td>\n",
       "      <td>#Person1# takes #Person2#'s taxi to the train ...</td>\n",
       "      <td>Talking to a taxi driver</td>\n",
       "    </tr>\n",
       "  </tbody>\n",
       "</table>\n",
       "</div>"
      ],
      "text/plain": [
       "     fname                                           dialogue  \\\n",
       "0  dev_400  #Person1#: 업그레이드를 진행하기 위해 회계 시스템을 오프라인으로 전환해야 ...   \n",
       "1  dev_401  #Person1#: 실례합니다. 재처방 받길 원합니다.#Person2#: 병에 적혀...   \n",
       "2  dev_402  #Person1#: 자신을 좋은 엄마라고 생각하십니까?#Person2#: 네, 저는...   \n",
       "3  dev_403  #Person1#: 이 직책에 자격이 있다고 생각하는 이유는 무엇인가요?#Perso...   \n",
       "4  dev_404  #Person1#: 택시! 택시!#Person2#: 어디로 가시겠습니까, 선생님?#...   \n",
       "\n",
       "                                             summary      topic  \\\n",
       "0  #Person1#은 업그레이드를 위해 회계 시스템을 오프라인으로 전환해야 한다고 #...  시스템 업그레이드   \n",
       "1  #Person1#은 처방전을 재처방 받고자 #Person2#에게 요청하지만, 이미 ...    처방전 재처방   \n",
       "2  #Person2#는 #Person2#에게 어떻게 좋은 엄마이자 성공적인 커리어 우먼...      사회 모임   \n",
       "3  #Person1#이 #Person2#를 인터뷰하고, 자격, 기술적 직위, 원본 자격...     직무 인터뷰   \n",
       "4  #Person1#은 #Person2#의 택시를 타고 기차역으로 갑니다. #Perso...   택시기사와 대화   \n",
       "\n",
       "                                         dialogue_en  \\\n",
       "0  #Person1#: We need to take the accounting syst...   \n",
       "1  #Person1#: Excuse me. I want to get a refill.#...   \n",
       "2  #Person1#: Do you consider yourself a good mot...   \n",
       "3  #Person1#: Why do you think you are qualified ...   \n",
       "4  #Person1#: Taxi! Taxi!#Person2#: Where to, sir...   \n",
       "\n",
       "                                          summary_en                  topic_en  \n",
       "0  #Person1# informs #Person2# that the accountin...           System Upgrades  \n",
       "1  #Person1# asks #Person2# to refill a prescript...      Prescription refills  \n",
       "2  #Person2# shares with #Person2# how to be a go...         Social Gatherings  \n",
       "3  #Person1# interviewed #Person2# and was provid...            Job Interviews  \n",
       "4  #Person1# takes #Person2#'s taxi to the train ...  Talking to a taxi driver  "
      ]
     },
     "execution_count": 2,
     "metadata": {},
     "output_type": "execute_result"
    }
   ],
   "source": [
    "# CSV 파일로 된 텍스트 데이터 로드 (예: 대화와 요약 데이터)\n",
    "df = pd.read_csv('/data/ephemeral/home/data/data/dev_en.csv')\n",
    "\n",
    "# 데이터프레임의 처음 몇 줄 확인\n",
    "df.head(5)"
   ]
  },
  {
   "cell_type": "markdown",
   "metadata": {},
   "source": [
    "# 마스킹 패턴 찾기"
   ]
  },
  {
   "cell_type": "code",
   "execution_count": 4,
   "metadata": {},
   "outputs": [
    {
     "name": "stdout",
     "output_type": "stream",
     "text": [
      "고유한 특수 토큰들: {'#Person3#', '#Address#', '#Person2#', '#Person4#', '#PhoneNumber#', '#Person1#', '#DateOfBirth#'}\n"
     ]
    }
   ],
   "source": [
    "import re\n",
    "import pandas as pd\n",
    "\n",
    "def reg_masking(text):\n",
    "    pattern = r\"#\\w+#\"  # #로 둘러싸인 단어들을 찾는 정규식 패턴\n",
    "    masked = re.findall(pattern, text)\n",
    "    return set(masked)  # 중복을 제거하고 고유한 토큰들의 집합을 반환\n",
    "\n",
    "\n",
    "# `reg_masking`을 호출하고 결과를 문자열로 변환하여 저장\n",
    "df['masked_patterns'] = df['dialogue_en'].apply(lambda x: str(reg_masking(x)))\n",
    "\n",
    "# 문자열로 저장된 집합을 실제 집합(set)으로 변환\n",
    "df['masked_patterns'] = df['masked_patterns'].apply(eval)\n",
    "\n",
    "# 모든 행에 있는 세트들의 합집합을 구함\n",
    "all_unique_tokens = set.union(*df['masked_patterns'])\n",
    "\n",
    "print(\"고유한 특수 토큰들:\", all_unique_tokens)\n"
   ]
  },
  {
   "cell_type": "markdown",
   "metadata": {},
   "source": [
    "# dialogue, summary 길이"
   ]
  },
  {
   "cell_type": "code",
   "execution_count": 6,
   "metadata": {},
   "outputs": [
    {
     "name": "stdout",
     "output_type": "stream",
     "text": [
      "       dialogue_turns  number_of_speakers  text_length  summary_length\n",
      "count      499.000000          499.000000   499.000000      499.000000\n",
      "mean         9.358717            2.012024   609.104208      130.739479\n",
      "std          4.002707            0.126172   330.682568       59.692185\n",
      "min          2.000000            2.000000   158.000000       33.000000\n",
      "25%          6.000000            2.000000   376.500000       86.500000\n",
      "50%          9.000000            2.000000   539.000000      118.000000\n",
      "75%         12.000000            2.000000   771.000000      158.500000\n",
      "max         29.000000            4.000000  2288.000000      418.000000\n"
     ]
    }
   ],
   "source": [
    "import re\n",
    "import pandas as pd\n",
    "\n",
    "# 제거할 특수 토큰 리스트\n",
    "special_tokens_all = ['#Person3#:', '#Address#', '#Person2#:', '#Person4#:', '#PhoneNumber#', '#Person1#:', '#DateOfBirth#']\n",
    "special_tokens_n = ['\\n']\n",
    "special_tokens = ['\\n', '#Address#', '#PhoneNumber#', '#DateOfBirth#', ':']\n",
    "speaker_tokens = ['#Person1#:', '#Person2#:', '#Person3#:', '#Person4#:']\n",
    "\n",
    "# 특수 토큰을 제거하는 함수 정의\n",
    "def remove_special_tokens(text):\n",
    "    for token in special_tokens:\n",
    "        text = text.replace(token, '')  # 특수 토큰을 빈 문자열로 대체\n",
    "    return text\n",
    "\n",
    "# 대화의 turn 수를 세는 함수\n",
    "def count_dialogue_turns(text):\n",
    "    # 화자 태그 패턴을 정의합니다 (예: #Person1#, #Person2# 등)\n",
    "    speaker_pattern = r\"#Person\\d+#\"\n",
    "    \n",
    "    # 모든 화자 태그를 찾아 리스트로 반환합니다\n",
    "    speakers = re.findall(speaker_pattern, text)\n",
    "    \n",
    "    # 화자가 변경될 때마다 턴을 카운트합니다\n",
    "    turn_count = 0\n",
    "    current_speaker = None\n",
    "    \n",
    "    for speaker in speakers:\n",
    "        if speaker != current_speaker:\n",
    "            turn_count += 1\n",
    "            current_speaker = speaker\n",
    "            \n",
    "    return turn_count\n",
    "\n",
    "# '\\n'을 제거하는 함수 정의\n",
    "def remove_special_tokens_n(text):\n",
    "    for token in special_tokens_n:\n",
    "        text = text.replace(token, '')  # 특수 토큰을 빈 문자열로 대체\n",
    "    return text\n",
    "\n",
    "#  제거하는 함수 정의\n",
    "def remove_speaker_tokens(text):\n",
    "    for token in speaker_tokens:\n",
    "        text = text.replace(token, '')  # 특수 토큰을 빈 문자열로 대체\n",
    "    return text\n",
    "\n",
    "def count_speakers(text):\n",
    "    # 화자 식별자에 대한 정규식 패턴 생성\n",
    "    pattern = r'(' + '|'.join(re.escape(token) for token in speaker_tokens) + ')'\n",
    "    # 텍스트에서 패턴에 매칭되는 모든 항목을 찾아 집합으로 변환\n",
    "    speakers = set(re.findall(pattern, text))\n",
    "    # 집합의 크기(고유 화자 수) 반환\n",
    "    return len(speakers)\n",
    "\n",
    "# 대화 및 요약에서 특수 토큰을 제거한 텍스트 생성\n",
    "df['cleaned_dialogue'] = df['dialogue_en'].apply(remove_special_tokens_n)\n",
    "df['cleaned_summary'] = df['summary_en'].apply(remove_special_tokens_n)\n",
    "\n",
    "# 대화의 turn 수 계산\n",
    "df['dialogue_turns'] = df['dialogue_en'].apply(count_dialogue_turns)\n",
    "df['number_of_speakers'] = df['dialogue_en'].apply(count_speakers)\n",
    "\n",
    "# 텍스트 길이 계산\n",
    "df['cleaned_dialogue2'] = df['cleaned_dialogue'].apply(remove_speaker_tokens)\n",
    "df['text_length'] = df['cleaned_dialogue2'].apply(len)\n",
    "df['summary_length'] = df['cleaned_summary'].apply(len)\n",
    "\n",
    "# 텍스트 길이 및 turn 수, 화자 수 통계 출력\n",
    "print(df[['dialogue_turns', 'number_of_speakers','text_length', 'summary_length']].describe())\n"
   ]
  },
  {
   "cell_type": "code",
   "execution_count": 7,
   "metadata": {},
   "outputs": [
    {
     "data": {
      "text/html": [
       "<div>\n",
       "<style scoped>\n",
       "    .dataframe tbody tr th:only-of-type {\n",
       "        vertical-align: middle;\n",
       "    }\n",
       "\n",
       "    .dataframe tbody tr th {\n",
       "        vertical-align: top;\n",
       "    }\n",
       "\n",
       "    .dataframe thead th {\n",
       "        text-align: right;\n",
       "    }\n",
       "</style>\n",
       "<table border=\"1\" class=\"dataframe\">\n",
       "  <thead>\n",
       "    <tr style=\"text-align: right;\">\n",
       "      <th></th>\n",
       "      <th>dialogue_turns</th>\n",
       "      <th>number_of_speakers</th>\n",
       "      <th>text_length</th>\n",
       "      <th>summary_length</th>\n",
       "    </tr>\n",
       "  </thead>\n",
       "  <tbody>\n",
       "    <tr>\n",
       "      <th>count</th>\n",
       "      <td>499.000000</td>\n",
       "      <td>499.000000</td>\n",
       "      <td>499.000000</td>\n",
       "      <td>499.000000</td>\n",
       "    </tr>\n",
       "    <tr>\n",
       "      <th>mean</th>\n",
       "      <td>9.358717</td>\n",
       "      <td>2.012024</td>\n",
       "      <td>609.104208</td>\n",
       "      <td>130.739479</td>\n",
       "    </tr>\n",
       "    <tr>\n",
       "      <th>std</th>\n",
       "      <td>4.002707</td>\n",
       "      <td>0.126172</td>\n",
       "      <td>330.682568</td>\n",
       "      <td>59.692185</td>\n",
       "    </tr>\n",
       "    <tr>\n",
       "      <th>min</th>\n",
       "      <td>2.000000</td>\n",
       "      <td>2.000000</td>\n",
       "      <td>158.000000</td>\n",
       "      <td>33.000000</td>\n",
       "    </tr>\n",
       "    <tr>\n",
       "      <th>25%</th>\n",
       "      <td>6.000000</td>\n",
       "      <td>2.000000</td>\n",
       "      <td>376.500000</td>\n",
       "      <td>86.500000</td>\n",
       "    </tr>\n",
       "    <tr>\n",
       "      <th>50%</th>\n",
       "      <td>9.000000</td>\n",
       "      <td>2.000000</td>\n",
       "      <td>539.000000</td>\n",
       "      <td>118.000000</td>\n",
       "    </tr>\n",
       "    <tr>\n",
       "      <th>75%</th>\n",
       "      <td>12.000000</td>\n",
       "      <td>2.000000</td>\n",
       "      <td>771.000000</td>\n",
       "      <td>158.500000</td>\n",
       "    </tr>\n",
       "    <tr>\n",
       "      <th>max</th>\n",
       "      <td>29.000000</td>\n",
       "      <td>4.000000</td>\n",
       "      <td>2288.000000</td>\n",
       "      <td>418.000000</td>\n",
       "    </tr>\n",
       "  </tbody>\n",
       "</table>\n",
       "</div>"
      ],
      "text/plain": [
       "       dialogue_turns  number_of_speakers  text_length  summary_length\n",
       "count      499.000000          499.000000   499.000000      499.000000\n",
       "mean         9.358717            2.012024   609.104208      130.739479\n",
       "std          4.002707            0.126172   330.682568       59.692185\n",
       "min          2.000000            2.000000   158.000000       33.000000\n",
       "25%          6.000000            2.000000   376.500000       86.500000\n",
       "50%          9.000000            2.000000   539.000000      118.000000\n",
       "75%         12.000000            2.000000   771.000000      158.500000\n",
       "max         29.000000            4.000000  2288.000000      418.000000"
      ]
     },
     "execution_count": 7,
     "metadata": {},
     "output_type": "execute_result"
    }
   ],
   "source": [
    "df[['dialogue_turns', 'number_of_speakers','text_length', 'summary_length']].describe()"
   ]
  },
  {
   "cell_type": "code",
   "execution_count": 8,
   "metadata": {},
   "outputs": [
    {
     "data": {
      "image/png": "[encoded data removed]",
      "text/plain": [
       "<Figure size 500x300 with 1 Axes>"
      ]
     },
     "metadata": {},
     "output_type": "display_data"
    },
    {
     "data": {
      "image/png": "[encoded data removed]",
      "text/plain": [
       "<Figure size 500x300 with 1 Axes>"
      ]
     },
     "metadata": {},
     "output_type": "display_data"
    },
    {
     "data": {
      "image/png": "[encoded data removed]",
      "text/plain": [
       "<Figure size 500x300 with 1 Axes>"
      ]
     },
     "metadata": {},
     "output_type": "display_data"
    },
    {
     "data": {
      "image/png": "[encoded data removed]",
      "text/plain": [
       "<Figure size 500x300 with 1 Axes>"
      ]
     },
     "metadata": {},
     "output_type": "display_data"
    }
   ],
   "source": [
    "import matplotlib.pyplot as plt\n",
    "\n",
    "# 'dialogue_turns'의 히스토그램\n",
    "plt.figure(figsize=(5, 3))\n",
    "plt.hist(df['dialogue_turns'], bins=20, color='skyblue', edgecolor='black')\n",
    "plt.title('Distribution of Dialogue Turns')\n",
    "plt.xlabel('Number of Turns')\n",
    "plt.ylabel('Frequency')\n",
    "plt.grid(True)\n",
    "plt.show()\n",
    "\n",
    "# 'number_of_speakers'의 히스토그램\n",
    "plt.figure(figsize=(5, 3))\n",
    "plt.hist(df['number_of_speakers'], bins=20, color='green', edgecolor='black')\n",
    "plt.title('Distribution of Number of Speakers')\n",
    "plt.xlabel('Number of Speakers')\n",
    "plt.ylabel('Frequency')\n",
    "plt.grid(True)\n",
    "plt.show()\n",
    "\n",
    "# 'text_length'의 히스토그램\n",
    "plt.figure(figsize=(5, 3))\n",
    "plt.hist(df['text_length'], bins=20, color='red', edgecolor='black')\n",
    "plt.title('Distribution of Text Length')\n",
    "plt.xlabel('Text Length')\n",
    "plt.ylabel('Frequency')\n",
    "plt.grid(True)\n",
    "plt.show()\n",
    "\n",
    "# 'summary_length'의 히스토그램\n",
    "plt.figure(figsize=(5, 3))\n",
    "plt.hist(df['summary_length'], bins=20, color='purple', edgecolor='black')\n",
    "plt.title('Distribution of Summary Length')\n",
    "plt.xlabel('Summary Length')\n",
    "plt.ylabel('Frequency')\n",
    "plt.grid(True)\n",
    "plt.show()\n"
   ]
  },
  {
   "cell_type": "code",
   "execution_count": 6,
   "metadata": {},
   "outputs": [
    {
     "data": {
      "text/plain": [
       "'#Person1#: 안녕하세요, 오늘 하루 어떠셨어요? \\n#Person2#: 요즘 숨쉬기가 좀 힘들어요.\\n#Person1#: 최근에 감기 같은 것에 걸리신 적이 있나요?\\n#Person2#: 아니요, 감기는 아니에요. 그냥 숨을 쉴 때마다 가슴이 무겁게 느껴져요.\\n#Person1#: 알고 있는 알레르기가 있나요?\\n#Person2#: 아니요, 알고 있는 알레르기는 없어요.\\n#Person1#: 이런 증상이 항상 나타나나요, 아니면 활동할 때 주로 나타나나요?\\n#Person2#: 운동을 할 때 많이 나타나요.\\n#Person1#: 저는 당신을 폐 전문의에게 보내서 천식에 대한 검사를 받게 할 거예요.\\n#Person2#: 도와주셔서 감사합니다, 의사 선생님.'"
      ]
     },
     "execution_count": 6,
     "metadata": {},
     "output_type": "execute_result"
    }
   ],
   "source": [
    "import pandas as pd\n",
    "\n",
    "# 출력할 최대 열 수 설정\n",
    "pd.set_option('display.max_columns', None)\n",
    "\n",
    "# 출력할 최대 행 수 설정\n",
    "pd.set_option('display.max_rows', None)\n",
    "\n",
    "# 첫 번째 행 출력\n",
    "df.iloc[0]['dialogue']"
   ]
  },
  {
   "cell_type": "code",
   "execution_count": 7,
   "metadata": {},
   "outputs": [
    {
     "data": {
      "text/plain": [
       "' 헤이, 지미. 나중에 운동하러 가자. 그래. 몇 시에 갈까? 3시 30분 어때? 좋아. 오늘은 다리와 팔목을 운동하자. 헤이. 나 방금 농구를 했는데, 다리가 좀 아파. 오늘은 팔과 배를 운동하자. 나는 주간 스케줄을 따르고 있어. 너 때문에 모든 게 망가지고 있어. 제발. 우리는 단지 두 날을 바꾸는 거야. 금요일에 다리를 할 수 있어. 알았어. 그럼 3시 30분에 헬스장에서 만나자.'"
      ]
     },
     "execution_count": 7,
     "metadata": {},
     "output_type": "execute_result"
    }
   ],
   "source": [
    "df.iloc[1]['cleaned_dialogue2']"
   ]
  },
  {
   "cell_type": "code",
   "execution_count": 8,
   "metadata": {},
   "outputs": [
    {
     "data": {
      "text/plain": [
       "'#Person1#은 지미에게 운동하러 가자고 제안하고 팔과 배를 운동하도록 설득한다.'"
      ]
     },
     "execution_count": 8,
     "metadata": {},
     "output_type": "execute_result"
    }
   ],
   "source": [
    "df.iloc[1]['summary']"
   ]
  },
  {
   "cell_type": "code",
   "execution_count": 9,
   "metadata": {},
   "outputs": [
    {
     "data": {
      "text/plain": [
       "'#Person1#은 지미에게 운동하러 가자고 제안하고 팔과 배를 운동하도록 설득한다.'"
      ]
     },
     "execution_count": 9,
     "metadata": {},
     "output_type": "execute_result"
    }
   ],
   "source": [
    "df.iloc[1]['cleaned_summary']"
   ]
  },
  {
   "cell_type": "code",
   "execution_count": 10,
   "metadata": {},
   "outputs": [
    {
     "data": {
      "text/html": [
       "<div>\n",
       "<style scoped>\n",
       "    .dataframe tbody tr th:only-of-type {\n",
       "        vertical-align: middle;\n",
       "    }\n",
       "\n",
       "    .dataframe tbody tr th {\n",
       "        vertical-align: top;\n",
       "    }\n",
       "\n",
       "    .dataframe thead th {\n",
       "        text-align: right;\n",
       "    }\n",
       "</style>\n",
       "<table border=\"1\" class=\"dataframe\">\n",
       "  <thead>\n",
       "    <tr style=\"text-align: right;\">\n",
       "      <th></th>\n",
       "      <th>fname</th>\n",
       "      <th>dialogue</th>\n",
       "      <th>summary</th>\n",
       "      <th>topic</th>\n",
       "      <th>masked_patterns</th>\n",
       "      <th>cleaned_dialogue</th>\n",
       "      <th>cleaned_summary</th>\n",
       "      <th>dialogue_turns</th>\n",
       "      <th>number_of_speakers</th>\n",
       "      <th>cleaned_dialogue2</th>\n",
       "      <th>text_length</th>\n",
       "      <th>summary_length</th>\n",
       "    </tr>\n",
       "  </thead>\n",
       "  <tbody>\n",
       "    <tr>\n",
       "      <th>0</th>\n",
       "      <td>dev_0</td>\n",
       "      <td>#Person1#: 안녕하세요, 오늘 하루 어떠셨어요? \\n#Person2#: 요즘...</td>\n",
       "      <td>#Person2#는 숨쉬기에 어려움을 겪는다. 의사는 #Person1#에게 이에 대...</td>\n",
       "      <td>의사에게 상담하기</td>\n",
       "      <td>{#Person1#, #Person2#}</td>\n",
       "      <td>안녕하세요, 오늘 하루 어떠셨어요? \\n 요즘 숨쉬기가 좀 힘들어요.\\n 최근에 ...</td>\n",
       "      <td>#Person2#는 숨쉬기에 어려움을 겪는다. 의사는 #Person1#에게 이에 대...</td>\n",
       "      <td>10</td>\n",
       "      <td>2</td>\n",
       "      <td>안녕하세요, 오늘 하루 어떠셨어요?  요즘 숨쉬기가 좀 힘들어요. 최근에 감기 같...</td>\n",
       "      <td>257</td>\n",
       "      <td>80</td>\n",
       "    </tr>\n",
       "    <tr>\n",
       "      <th>1</th>\n",
       "      <td>dev_1</td>\n",
       "      <td>#Person1#: 헤이, 지미. 나중에 운동하러 가자.\\n#Person2#: 그래...</td>\n",
       "      <td>#Person1#은 지미에게 운동하러 가자고 제안하고 팔과 배를 운동하도록 설득한다.</td>\n",
       "      <td>운동하기</td>\n",
       "      <td>{#Person1#, #Person2#}</td>\n",
       "      <td>헤이, 지미. 나중에 운동하러 가자.\\n 그래. 몇 시에 갈까?\\n 3시 30분 ...</td>\n",
       "      <td>#Person1#은 지미에게 운동하러 가자고 제안하고 팔과 배를 운동하도록 설득한다.</td>\n",
       "      <td>8</td>\n",
       "      <td>2</td>\n",
       "      <td>헤이, 지미. 나중에 운동하러 가자. 그래. 몇 시에 갈까? 3시 30분 어때? ...</td>\n",
       "      <td>218</td>\n",
       "      <td>47</td>\n",
       "    </tr>\n",
       "    <tr>\n",
       "      <th>2</th>\n",
       "      <td>dev_2</td>\n",
       "      <td>#Person1#: 나는 더 이상 건강에 해로운 음식을 먹는 것을 멈춰야 해.\\n#...</td>\n",
       "      <td>#Person1#은 건강에 해로운 음식을 먹는 것을 멈추려는 계획을 세우고, #Pe...</td>\n",
       "      <td>건강한 음식</td>\n",
       "      <td>{#Person1#, #Person2#}</td>\n",
       "      <td>나는 더 이상 건강에 해로운 음식을 먹는 것을 멈춰야 해.\\n 무슨 말인지 알아....</td>\n",
       "      <td>#Person1#은 건강에 해로운 음식을 먹는 것을 멈추려는 계획을 세우고, #Pe...</td>\n",
       "      <td>11</td>\n",
       "      <td>2</td>\n",
       "      <td>나는 더 이상 건강에 해로운 음식을 먹는 것을 멈춰야 해. 무슨 말인지 알아. 나...</td>\n",
       "      <td>248</td>\n",
       "      <td>83</td>\n",
       "    </tr>\n",
       "    <tr>\n",
       "      <th>3</th>\n",
       "      <td>dev_3</td>\n",
       "      <td>#Person1#: UFO를 믿으세요?\\n#Person2#: 물론이죠, 그들은 저기...</td>\n",
       "      <td>#Person2#는 UFO를 믿고 꿈에서 그들을 볼 수 있다고 말한다. #Perso...</td>\n",
       "      <td>UFO와 외계인</td>\n",
       "      <td>{#Person1#, #Person2#}</td>\n",
       "      <td>UFO를 믿으세요?\\n 물론이죠, 그들은 저기 어딘가에 있어요.\\n 하지만 저는 ...</td>\n",
       "      <td>#Person2#는 UFO를 믿고 꿈에서 그들을 볼 수 있다고 말한다. #Perso...</td>\n",
       "      <td>13</td>\n",
       "      <td>2</td>\n",
       "      <td>UFO를 믿으세요? 물론이죠, 그들은 저기 어딘가에 있어요. 하지만 저는 그들을 ...</td>\n",
       "      <td>395</td>\n",
       "      <td>108</td>\n",
       "    </tr>\n",
       "    <tr>\n",
       "      <th>4</th>\n",
       "      <td>dev_4</td>\n",
       "      <td>#Person1#: 오늘 학교에 갔어?\\n#Person2#: 당연하지. 너는?\\n#...</td>\n",
       "      <td>#Person1#은 오늘 학교에 가지 않았다. #Person2#는 내일 수업을 빼먹...</td>\n",
       "      <td>학교 가기</td>\n",
       "      <td>{#Person1#, #Person2#}</td>\n",
       "      <td>오늘 학교에 갔어?\\n 당연하지. 너는?\\n 나는 가고 싶지 않아서 안 갔어.\\n...</td>\n",
       "      <td>#Person1#은 오늘 학교에 가지 않았다. #Person2#는 내일 수업을 빼먹...</td>\n",
       "      <td>12</td>\n",
       "      <td>2</td>\n",
       "      <td>오늘 학교에 갔어? 당연하지. 너는? 나는 가고 싶지 않아서 안 갔어. 그게 슬프...</td>\n",
       "      <td>199</td>\n",
       "      <td>61</td>\n",
       "    </tr>\n",
       "  </tbody>\n",
       "</table>\n",
       "</div>"
      ],
      "text/plain": [
       "   fname                                           dialogue  \\\n",
       "0  dev_0  #Person1#: 안녕하세요, 오늘 하루 어떠셨어요? \\n#Person2#: 요즘...   \n",
       "1  dev_1  #Person1#: 헤이, 지미. 나중에 운동하러 가자.\\n#Person2#: 그래...   \n",
       "2  dev_2  #Person1#: 나는 더 이상 건강에 해로운 음식을 먹는 것을 멈춰야 해.\\n#...   \n",
       "3  dev_3  #Person1#: UFO를 믿으세요?\\n#Person2#: 물론이죠, 그들은 저기...   \n",
       "4  dev_4  #Person1#: 오늘 학교에 갔어?\\n#Person2#: 당연하지. 너는?\\n#...   \n",
       "\n",
       "                                             summary      topic  \\\n",
       "0  #Person2#는 숨쉬기에 어려움을 겪는다. 의사는 #Person1#에게 이에 대...  의사에게 상담하기   \n",
       "1    #Person1#은 지미에게 운동하러 가자고 제안하고 팔과 배를 운동하도록 설득한다.       운동하기   \n",
       "2  #Person1#은 건강에 해로운 음식을 먹는 것을 멈추려는 계획을 세우고, #Pe...     건강한 음식   \n",
       "3  #Person2#는 UFO를 믿고 꿈에서 그들을 볼 수 있다고 말한다. #Perso...   UFO와 외계인   \n",
       "4  #Person1#은 오늘 학교에 가지 않았다. #Person2#는 내일 수업을 빼먹...      학교 가기   \n",
       "\n",
       "          masked_patterns                                   cleaned_dialogue  \\\n",
       "0  {#Person1#, #Person2#}   안녕하세요, 오늘 하루 어떠셨어요? \\n 요즘 숨쉬기가 좀 힘들어요.\\n 최근에 ...   \n",
       "1  {#Person1#, #Person2#}   헤이, 지미. 나중에 운동하러 가자.\\n 그래. 몇 시에 갈까?\\n 3시 30분 ...   \n",
       "2  {#Person1#, #Person2#}   나는 더 이상 건강에 해로운 음식을 먹는 것을 멈춰야 해.\\n 무슨 말인지 알아....   \n",
       "3  {#Person1#, #Person2#}   UFO를 믿으세요?\\n 물론이죠, 그들은 저기 어딘가에 있어요.\\n 하지만 저는 ...   \n",
       "4  {#Person1#, #Person2#}   오늘 학교에 갔어?\\n 당연하지. 너는?\\n 나는 가고 싶지 않아서 안 갔어.\\n...   \n",
       "\n",
       "                                     cleaned_summary  dialogue_turns  \\\n",
       "0  #Person2#는 숨쉬기에 어려움을 겪는다. 의사는 #Person1#에게 이에 대...              10   \n",
       "1    #Person1#은 지미에게 운동하러 가자고 제안하고 팔과 배를 운동하도록 설득한다.               8   \n",
       "2  #Person1#은 건강에 해로운 음식을 먹는 것을 멈추려는 계획을 세우고, #Pe...              11   \n",
       "3  #Person2#는 UFO를 믿고 꿈에서 그들을 볼 수 있다고 말한다. #Perso...              13   \n",
       "4  #Person1#은 오늘 학교에 가지 않았다. #Person2#는 내일 수업을 빼먹...              12   \n",
       "\n",
       "   number_of_speakers                                  cleaned_dialogue2  \\\n",
       "0                   2   안녕하세요, 오늘 하루 어떠셨어요?  요즘 숨쉬기가 좀 힘들어요. 최근에 감기 같...   \n",
       "1                   2   헤이, 지미. 나중에 운동하러 가자. 그래. 몇 시에 갈까? 3시 30분 어때? ...   \n",
       "2                   2   나는 더 이상 건강에 해로운 음식을 먹는 것을 멈춰야 해. 무슨 말인지 알아. 나...   \n",
       "3                   2   UFO를 믿으세요? 물론이죠, 그들은 저기 어딘가에 있어요. 하지만 저는 그들을 ...   \n",
       "4                   2   오늘 학교에 갔어? 당연하지. 너는? 나는 가고 싶지 않아서 안 갔어. 그게 슬프...   \n",
       "\n",
       "   text_length  summary_length  \n",
       "0          257              80  \n",
       "1          218              47  \n",
       "2          248              83  \n",
       "3          395             108  \n",
       "4          199              61  "
      ]
     },
     "execution_count": 10,
     "metadata": {},
     "output_type": "execute_result"
    }
   ],
   "source": [
    "df.head()"
   ]
  }
 ],
 "metadata": {
  "kernelspec": {
   "display_name": "base",
   "language": "python",
   "name": "python3"
  },
  "language_info": {
   "codemirror_mode": {
    "name": "ipython",
    "version": 3
   },
   "file_extension": ".py",
   "mimetype": "text/x-python",
   "name": "python",
   "nbconvert_exporter": "python",
   "pygments_lexer": "ipython3",
   "version": "3.10.13"
  }
 },
 "nbformat": 4,
 "nbformat_minor": 2
}
