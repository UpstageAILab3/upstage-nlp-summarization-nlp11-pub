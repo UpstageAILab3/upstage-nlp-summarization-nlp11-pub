{
 "cells": [
  {
   "cell_type": "code",
   "execution_count": 5,
   "metadata": {},
   "outputs": [
    {
     "name": "stdout",
     "output_type": "stream",
     "text": [
      "Collecting openpyxl\n",
      "  Obtaining dependency information for openpyxl from https://files.pythonhosted.org/packages/c0/da/977ded879c29cbd04de313843e76868e6e13408a94ed6b987245dc7c8506/openpyxl-3.1.5-py2.py3-none-any.whl.metadata\n",
      "  Downloading openpyxl-3.1.5-py2.py3-none-any.whl.metadata (2.5 kB)\n",
      "Collecting et-xmlfile (from openpyxl)\n",
      "  Obtaining dependency information for et-xmlfile from https://files.pythonhosted.org/packages/96/c2/3dd434b0108730014f1b96fd286040dc3bcb70066346f7e01ec2ac95865f/et_xmlfile-1.1.0-py3-none-any.whl.metadata\n",
      "  Downloading et_xmlfile-1.1.0-py3-none-any.whl.metadata (1.8 kB)\n",
      "Downloading openpyxl-3.1.5-py2.py3-none-any.whl (250 kB)\n",
      "\u001b[2K   \u001b[90m━━━━━━━━━━━━━━━━━━━━━━━━━━━━━━━━━━━━━━━━\u001b[0m \u001b[32m250.9/250.9 kB\u001b[0m \u001b[31m1.0 MB/s\u001b[0m eta \u001b[36m0:00:00\u001b[0ma \u001b[36m0:00:01\u001b[0mm\n",
      "\u001b[?25hDownloading et_xmlfile-1.1.0-py3-none-any.whl (4.7 kB)\n",
      "Installing collected packages: et-xmlfile, openpyxl\n",
      "Successfully installed et-xmlfile-1.1.0 openpyxl-3.1.5\n",
      "\u001b[33mWARNING: Running pip as the 'root' user can result in broken permissions and conflicting behaviour with the system package manager. It is recommended to use a virtual environment instead: https://pip.pypa.io/warnings/venv\u001b[0m\u001b[33m\n",
      "\u001b[0mNote: you may need to restart the kernel to use updated packages.\n"
     ]
    }
   ],
   "source": [
    "pip install openpyxl\n"
   ]
  },
  {
   "cell_type": "code",
   "execution_count": 3,
   "metadata": {},
   "outputs": [
    {
     "name": "stdout",
     "output_type": "stream",
     "text": [
      "    fname                                           dialogue\n",
      "0  test_0  #Person1#: 더슨 씨, 받아쓰기 좀 해주세요. #Person2#: 네, 실장...\n",
      "1  test_1  #Person1#: 드디어 왔네! 왜 그렇게 오래 걸렸어?#Person2#: 또 교...\n",
      "2  test_2  #Person1#: 케이트, 무슨 일이 일어났는지 너는 믿지 못할거야. #Perso...\n",
      "3  test_3  #Person1#: 생일 축하해, 이건 너를 위한 거야, 브라이언.#Person2#...\n",
      "4  test_4  #Person1#: 이 올림픽 공원이 정말 크네요!#Person2#: 네. 지금 우...\n"
     ]
    }
   ],
   "source": [
    "import os\n",
    "import pandas as pd\n",
    "\n",
    "# 제어 문자를 제거하는 함수\n",
    "def remove_control_characters(s):\n",
    "    return \"\".join(ch for ch in s if ch.isprintable())\n",
    "\n",
    "# 데이터 및 설정\n",
    "loaded_config = {\n",
    "    'general': {\n",
    "        'data_path': '/data/ephemeral/home/data/data'  # 데이터 경로 설정\n",
    "    }\n",
    "}\n",
    "data_path = loaded_config['general']['data_path']\n",
    "\n",
    "# CSV 파일 불러오기\n",
    "train_df = pd.read_csv(os.path.join(data_path, 'test.csv'))## 수정\n",
    "\n",
    "# 'dialogue' 열에 제어 문자 제거 함수 적용\n",
    "train_df['dialogue'] = train_df['dialogue'].apply(remove_control_characters)\n",
    "#train_df['summary'] = train_df['summary'].apply(remove_control_characters)\n",
    "#train_df['topic'] = train_df['topic'].apply(remove_control_characters)\n",
    "\n",
    "# 확인을 위해 처음 몇 줄 출력\n",
    "print(train_df.head())\n",
    "\n",
    "# 필요한 경우 수정된 데이터프레임 저장\n",
    "train_df.to_csv(os.path.join(data_path, 'test_clean.csv'), index=False)## 수정\n"
   ]
  },
  {
   "cell_type": "code",
   "execution_count": null,
   "metadata": {},
   "outputs": [],
   "source": [
    "import os\n",
    "import pandas as pd\n",
    "from openai import OpenAI\n",
    "\n",
    "# API 설정\n",
    "client = OpenAI(\n",
    "    api_key=\"up_kts6Q2KQWy94negmKwvQcos7cYo6O\",  # 실제 API 키 입력\n",
    "    base_url=\"https://api.upstage.ai/v1/solar\"\n",
    ")\n",
    "\n",
    "def translate_text(text, model=\"solar-1-mini-translate-koen\"):\n",
    "    \"\"\" 주어진 텍스트를 영어로 번역합니다. \"\"\"\n",
    "    response = client.chat.completions.create(\n",
    "        model=model,\n",
    "        messages=[\n",
    "            {\"role\": \"user\", \"content\": text}\n",
    "        ],\n",
    "        stream=False\n",
    "    )\n",
    "    return response.choices[0].message.content if response.choices else text\n",
    "\n",
    "# 데이터 및 설정\n",
    "loaded_config = {\n",
    "    'general': {\n",
    "        'data_path': '/data/ephemeral/home/data/data'  # 데이터 경로 설정\n",
    "    }\n",
    "}\n",
    "data_path = loaded_config['general']['data_path']\n",
    "train_df = pd.read_csv(os.path.join(data_path, 'train_clean.csv')) ## 수정\n",
    "batch_size = 100 \n",
    "columns_to_translate = ['dialogue', 'summary', 'topic']\n",
    "#columns_to_translate = ['dialogue']\n",
    "\n",
    "# 배치 3부터 시작하기 위한 계산 (배치 인덱스는 0부터 시작하므로 2 * batch_size)\n",
    "restart_batch = 8 #6 #64 #83  # fname=train_646이면 restart_batch는 6, 결과물은 batch_7.xslx ## 수정\n",
    "start_index = restart_batch * batch_size\n",
    "\n",
    "# 배치 처리 및 Excel 파일 저장\n",
    "for start in range(start_index, train_df.shape[0], batch_size):\n",
    "    end = min(start + batch_size, train_df.shape[0])\n",
    "    batch = train_df.iloc[start:end]\n",
    "    for column in columns_to_translate:\n",
    "        batch[column + '_en'] = batch[column].apply(translate_text)\n",
    "    batch_file = os.path.join(data_path, f'batch_{start // batch_size + 1}.xlsx')\n",
    "    batch.to_excel(batch_file, index=False)\n",
    "    print(f\"Processed and saved batch {start // batch_size + 1}\")\n",
    "\n",
    "# 모든 배치 파일 병합\n",
    "all_files = [os.path.join(data_path, f) for f in os.listdir(data_path) if f.startswith('batch_') and f.endswith('.xlsx')]\n",
    "all_data = pd.concat((pd.read_excel(f) for f in all_files), ignore_index=True)\n",
    "\n",
    "# 최종 파일 저장\n",
    "output_file = os.path.join(data_path, 'test_en.csv') ## 수정\n",
    "all_data.to_csv(output_file, index=False)\n",
    "print(\"All data merged and saved to\", output_file)\n",
    "\n",
    "#18.68시간 예상\n"
   ]
  },
  {
   "cell_type": "code",
   "execution_count": 48,
   "metadata": {},
   "outputs": [
    {
     "data": {
      "text/html": [
       "<div>\n",
       "<style scoped>\n",
       "    .dataframe tbody tr th:only-of-type {\n",
       "        vertical-align: middle;\n",
       "    }\n",
       "\n",
       "    .dataframe tbody tr th {\n",
       "        vertical-align: top;\n",
       "    }\n",
       "\n",
       "    .dataframe thead th {\n",
       "        text-align: right;\n",
       "    }\n",
       "</style>\n",
       "<table border=\"1\" class=\"dataframe\">\n",
       "  <thead>\n",
       "    <tr style=\"text-align: right;\">\n",
       "      <th></th>\n",
       "      <th>fname</th>\n",
       "      <th>dialogue</th>\n",
       "      <th>summary</th>\n",
       "      <th>topic</th>\n",
       "      <th>dialogue_en</th>\n",
       "      <th>summary_en</th>\n",
       "      <th>topic_en</th>\n",
       "    </tr>\n",
       "  </thead>\n",
       "  <tbody>\n",
       "  </tbody>\n",
       "</table>\n",
       "</div>"
      ],
      "text/plain": [
       "Empty DataFrame\n",
       "Columns: [fname, dialogue, summary, topic, dialogue_en, summary_en, topic_en]\n",
       "Index: []"
      ]
     },
     "execution_count": 48,
     "metadata": {},
     "output_type": "execute_result"
    }
   ],
   "source": [
    "batch_9 = pd.read_excel(r'/data/ephemeral/home/data/data/batch_9.xlsx')\n",
    "batch_9[batch_9['dialogue_en'].isna()==True]"
   ]
  },
  {
   "cell_type": "code",
   "execution_count": 45,
   "metadata": {},
   "outputs": [
    {
     "data": {
      "text/html": [
       "<div>\n",
       "<style scoped>\n",
       "    .dataframe tbody tr th:only-of-type {\n",
       "        vertical-align: middle;\n",
       "    }\n",
       "\n",
       "    .dataframe tbody tr th {\n",
       "        vertical-align: top;\n",
       "    }\n",
       "\n",
       "    .dataframe thead th {\n",
       "        text-align: right;\n",
       "    }\n",
       "</style>\n",
       "<table border=\"1\" class=\"dataframe\">\n",
       "  <thead>\n",
       "    <tr style=\"text-align: right;\">\n",
       "      <th></th>\n",
       "      <th>fname</th>\n",
       "      <th>dialogue</th>\n",
       "      <th>summary</th>\n",
       "      <th>topic</th>\n",
       "      <th>dialogue_en</th>\n",
       "      <th>summary_en</th>\n",
       "      <th>topic_en</th>\n",
       "    </tr>\n",
       "  </thead>\n",
       "  <tbody>\n",
       "  </tbody>\n",
       "</table>\n",
       "</div>"
      ],
      "text/plain": [
       "Empty DataFrame\n",
       "Columns: [fname, dialogue, summary, topic, dialogue_en, summary_en, topic_en]\n",
       "Index: []"
      ]
     },
     "execution_count": 45,
     "metadata": {},
     "output_type": "execute_result"
    }
   ],
   "source": [
    "batch_7 = pd.read_excel(r'/data/ephemeral/home/data/data/batch_7.xlsx')\n",
    "batch_7[batch_7['dialogue_en'].isna()==True]"
   ]
  },
  {
   "cell_type": "code",
   "execution_count": 17,
   "metadata": {},
   "outputs": [
    {
     "data": {
      "text/html": [
       "<div>\n",
       "<style scoped>\n",
       "    .dataframe tbody tr th:only-of-type {\n",
       "        vertical-align: middle;\n",
       "    }\n",
       "\n",
       "    .dataframe tbody tr th {\n",
       "        vertical-align: top;\n",
       "    }\n",
       "\n",
       "    .dataframe thead th {\n",
       "        text-align: right;\n",
       "    }\n",
       "</style>\n",
       "<table border=\"1\" class=\"dataframe\">\n",
       "  <thead>\n",
       "    <tr style=\"text-align: right;\">\n",
       "      <th></th>\n",
       "      <th>fname</th>\n",
       "      <th>dialogue</th>\n",
       "      <th>summary</th>\n",
       "      <th>topic</th>\n",
       "      <th>dialogue_en</th>\n",
       "      <th>summary_en</th>\n",
       "      <th>topic_en</th>\n",
       "    </tr>\n",
       "  </thead>\n",
       "  <tbody>\n",
       "  </tbody>\n",
       "</table>\n",
       "</div>"
      ],
      "text/plain": [
       "Empty DataFrame\n",
       "Columns: [fname, dialogue, summary, topic, dialogue_en, summary_en, topic_en]\n",
       "Index: []"
      ]
     },
     "execution_count": 17,
     "metadata": {},
     "output_type": "execute_result"
    }
   ],
   "source": [
    "batch_84 = pd.read_excel(r'/data/ephemeral/home/data/data/batch_84.xlsx')\n",
    "batch_84[batch_84['dialogue_en'].isna()==True]"
   ]
  },
  {
   "cell_type": "code",
   "execution_count": 22,
   "metadata": {},
   "outputs": [
    {
     "data": {
      "text/html": [
       "<div>\n",
       "<style scoped>\n",
       "    .dataframe tbody tr th:only-of-type {\n",
       "        vertical-align: middle;\n",
       "    }\n",
       "\n",
       "    .dataframe tbody tr th {\n",
       "        vertical-align: top;\n",
       "    }\n",
       "\n",
       "    .dataframe thead th {\n",
       "        text-align: right;\n",
       "    }\n",
       "</style>\n",
       "<table border=\"1\" class=\"dataframe\">\n",
       "  <thead>\n",
       "    <tr style=\"text-align: right;\">\n",
       "      <th></th>\n",
       "      <th>fname</th>\n",
       "      <th>dialogue</th>\n",
       "      <th>summary</th>\n",
       "      <th>topic</th>\n",
       "      <th>dialogue_en</th>\n",
       "      <th>summary_en</th>\n",
       "      <th>topic_en</th>\n",
       "    </tr>\n",
       "  </thead>\n",
       "  <tbody>\n",
       "  </tbody>\n",
       "</table>\n",
       "</div>"
      ],
      "text/plain": [
       "Empty DataFrame\n",
       "Columns: [fname, dialogue, summary, topic, dialogue_en, summary_en, topic_en]\n",
       "Index: []"
      ]
     },
     "execution_count": 22,
     "metadata": {},
     "output_type": "execute_result"
    }
   ],
   "source": [
    "batch_65 = pd.read_excel(r'/data/ephemeral/home/data/data/batch_65.xlsx')\n",
    "batch_65[batch_65['dialogue_en'].isna()==True]"
   ]
  },
  {
   "cell_type": "code",
   "execution_count": 29,
   "metadata": {},
   "outputs": [
    {
     "name": "stdout",
     "output_type": "stream",
     "text": [
      "대체할 train_en의 행 수: 109\n",
      "batch_65의 행 수: 100\n"
     ]
    }
   ],
   "source": [
    "print(\"대체할 train_en의 행 수:\", sum(mask))\n",
    "print(\"batch_65의 행 수:\", len(batch_65))\n"
   ]
  },
  {
   "cell_type": "code",
   "execution_count": 32,
   "metadata": {},
   "outputs": [],
   "source": [
    "import pandas as pd\n",
    "\n",
    "# 데이터 로드 (예제)\n",
    "train_en = pd.read_csv(r'/data/ephemeral/home/data/data/train_en.csv')\n",
    "\n",
    "# 삭제할 행 식별\n",
    "mask = train_en['fname'].apply(lambda x: 'train_6400' <= x <= 'train_6499')\n",
    "\n",
    "# 삭제할 위치의 최소 인덱스 계산\n",
    "if mask.any():  # mask에 True가 하나라도 있는 경우\n",
    "    start_index = train_en.index[mask].min()\n",
    "\n",
    "    # 해당 행들 삭제\n",
    "    train_en = train_en[~mask]\n",
    "\n",
    "    # batch_65 데이터 인덱스 조정\n",
    "    batch_65.index = range(start_index, start_index + len(batch_65))\n",
    "\n",
    "    # train_en과 batch_65 결합\n",
    "    train_en = pd.concat([train_en, batch_65]).sort_index()\n",
    "else:\n",
    "    print(\"해당 범위의 fname을 가진 행이 없습니다.\")\n",
    "\n",
    "# 변경된 데이터프레임 저장\n",
    "train_en.to_csv('train_en_65.csv', index=False)\n",
    "\n"
   ]
  },
  {
   "cell_type": "code",
   "execution_count": 35,
   "metadata": {},
   "outputs": [],
   "source": [
    "import pandas as pd\n",
    "\n",
    "# 데이터 로드 (예제)\n",
    "train_en_65 = pd.read_csv(r'/data/ephemeral/home/notebook/train_en_65.csv')\n",
    "\n",
    "# 삭제할 행 식별\n",
    "mask = train_en_65['fname'].apply(lambda x: 'train_8300' <= x <= 'train_8399')\n",
    "\n",
    "# 삭제할 위치의 최소 인덱스 계산\n",
    "if mask.any():  # mask에 True가 하나라도 있는 경우\n",
    "    start_index = train_en_65.index[mask].min()\n",
    "\n",
    "    # 해당 행들 삭제\n",
    "    train_en_65 = train_en_65[~mask]\n",
    "\n",
    "    # batch_65 데이터 인덱스 조정\n",
    "    batch_84.index = range(start_index, start_index + len(batch_84))\n",
    "\n",
    "    # train_en_65과 batch_65 결합\n",
    "    train_en_84 = pd.concat([train_en_65, batch_84]).sort_index()\n",
    "else:\n",
    "    print(\"해당 범위의 fname을 가진 행이 없습니다.\")\n",
    "\n",
    "# 변경된 데이터프레임 저장\n",
    "train_en_84.to_csv('train_en_84.csv', index=False)\n",
    "\n"
   ]
  },
  {
   "cell_type": "code",
   "execution_count": 36,
   "metadata": {},
   "outputs": [
    {
     "data": {
      "text/html": [
       "<div>\n",
       "<style scoped>\n",
       "    .dataframe tbody tr th:only-of-type {\n",
       "        vertical-align: middle;\n",
       "    }\n",
       "\n",
       "    .dataframe tbody tr th {\n",
       "        vertical-align: top;\n",
       "    }\n",
       "\n",
       "    .dataframe thead th {\n",
       "        text-align: right;\n",
       "    }\n",
       "</style>\n",
       "<table border=\"1\" class=\"dataframe\">\n",
       "  <thead>\n",
       "    <tr style=\"text-align: right;\">\n",
       "      <th></th>\n",
       "      <th>fname</th>\n",
       "      <th>dialogue</th>\n",
       "      <th>summary</th>\n",
       "      <th>topic</th>\n",
       "      <th>dialogue_en</th>\n",
       "      <th>summary_en</th>\n",
       "      <th>topic_en</th>\n",
       "    </tr>\n",
       "  </thead>\n",
       "  <tbody>\n",
       "  </tbody>\n",
       "</table>\n",
       "</div>"
      ],
      "text/plain": [
       "Empty DataFrame\n",
       "Columns: [fname, dialogue, summary, topic, dialogue_en, summary_en, topic_en]\n",
       "Index: []"
      ]
     },
     "execution_count": 36,
     "metadata": {},
     "output_type": "execute_result"
    }
   ],
   "source": [
    "train_en_84[train_en_84['dialogue_en'].isna()==True]"
   ]
  },
  {
   "cell_type": "code",
   "execution_count": 37,
   "metadata": {},
   "outputs": [],
   "source": [
    "# 변경된 데이터프레임 저장\n",
    "train_en_84.to_csv('train_en.csv', index=False)"
   ]
  }
 ],
 "metadata": {
  "kernelspec": {
   "display_name": "base",
   "language": "python",
   "name": "python3"
  },
  "language_info": {
   "codemirror_mode": {
    "name": "ipython",
    "version": 3
   },
   "file_extension": ".py",
   "mimetype": "text/x-python",
   "name": "python",
   "nbconvert_exporter": "python",
   "pygments_lexer": "ipython3",
   "version": "3.10.13"
  }
 },
 "nbformat": 4,
 "nbformat_minor": 2
}
