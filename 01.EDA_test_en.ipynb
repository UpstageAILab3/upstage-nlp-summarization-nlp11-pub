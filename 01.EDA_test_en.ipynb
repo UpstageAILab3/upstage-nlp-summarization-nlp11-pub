{
 "cells": [
  {
   "cell_type": "code",
   "execution_count": 1,
   "metadata": {},
   "outputs": [
    {
     "name": "stdout",
     "output_type": "stream",
     "text": [
      "Requirement already satisfied: pandas in /opt/conda/lib/python3.10/site-packages (2.1.4)\n",
      "Requirement already satisfied: numpy in /opt/conda/lib/python3.10/site-packages (1.23.5)\n",
      "Collecting matplotlib\n",
      "  Obtaining dependency information for matplotlib from https://files.pythonhosted.org/packages/8d/9d/d06860390f9d154fa884f1740a5456378fb153ff57443c91a4a32bab7092/matplotlib-3.9.2-cp310-cp310-manylinux_2_17_x86_64.manylinux2014_x86_64.whl.metadata\n",
      "  Downloading matplotlib-3.9.2-cp310-cp310-manylinux_2_17_x86_64.manylinux2014_x86_64.whl.metadata (11 kB)\n",
      "Collecting seaborn\n",
      "  Obtaining dependency information for seaborn from https://files.pythonhosted.org/packages/83/11/00d3c3dfc25ad54e731d91449895a79e4bf2384dc3ac01809010ba88f6d5/seaborn-0.13.2-py3-none-any.whl.metadata\n",
      "  Downloading seaborn-0.13.2-py3-none-any.whl.metadata (5.4 kB)\n",
      "Collecting nltk\n",
      "  Obtaining dependency information for nltk from https://files.pythonhosted.org/packages/4d/66/7d9e26593edda06e8cb531874633f7c2372279c3b0f46235539fe546df8b/nltk-3.9.1-py3-none-any.whl.metadata\n",
      "  Downloading nltk-3.9.1-py3-none-any.whl.metadata (2.9 kB)\n",
      "Collecting wordcloud\n",
      "  Obtaining dependency information for wordcloud from https://files.pythonhosted.org/packages/90/be/1a7a488f5edcfae6746ffb91e792a1795b6cc058364ea6888b3878d3476f/wordcloud-1.9.3-cp310-cp310-manylinux_2_17_x86_64.manylinux2014_x86_64.whl.metadata\n",
      "  Downloading wordcloud-1.9.3-cp310-cp310-manylinux_2_17_x86_64.manylinux2014_x86_64.whl.metadata (3.4 kB)\n",
      "Requirement already satisfied: python-dateutil>=2.8.2 in /opt/conda/lib/python3.10/site-packages (from pandas) (2.8.2)\n",
      "Requirement already satisfied: pytz>=2020.1 in /opt/conda/lib/python3.10/site-packages (from pandas) (2023.3.post1)\n",
      "Requirement already satisfied: tzdata>=2022.1 in /opt/conda/lib/python3.10/site-packages (from pandas) (2023.3)\n",
      "Collecting contourpy>=1.0.1 (from matplotlib)\n",
      "  Obtaining dependency information for contourpy>=1.0.1 from https://files.pythonhosted.org/packages/99/e6/d11966962b1aa515f5586d3907ad019f4b812c04e4546cc19ebf62b5178e/contourpy-1.3.0-cp310-cp310-manylinux_2_17_x86_64.manylinux2014_x86_64.whl.metadata\n",
      "  Downloading contourpy-1.3.0-cp310-cp310-manylinux_2_17_x86_64.manylinux2014_x86_64.whl.metadata (5.4 kB)\n",
      "Collecting cycler>=0.10 (from matplotlib)\n",
      "  Obtaining dependency information for cycler>=0.10 from https://files.pythonhosted.org/packages/e7/05/c19819d5e3d95294a6f5947fb9b9629efb316b96de511b418c53d245aae6/cycler-0.12.1-py3-none-any.whl.metadata\n",
      "  Downloading cycler-0.12.1-py3-none-any.whl.metadata (3.8 kB)\n",
      "Collecting fonttools>=4.22.0 (from matplotlib)\n",
      "  Obtaining dependency information for fonttools>=4.22.0 from https://files.pythonhosted.org/packages/56/61/ad19cad430aacbc3418be503e1f6daed9375c997a4e32b78a91195b3054a/fonttools-4.53.1-cp310-cp310-manylinux_2_17_x86_64.manylinux2014_x86_64.whl.metadata\n",
      "  Downloading fonttools-4.53.1-cp310-cp310-manylinux_2_17_x86_64.manylinux2014_x86_64.whl.metadata (162 kB)\n",
      "\u001b[2K     \u001b[90m━━━━━━━━━━━━━━━━━━━━━━━━━━━━━━━━━━━━━\u001b[0m \u001b[32m162.6/162.6 kB\u001b[0m \u001b[31m856.9 kB/s\u001b[0m eta \u001b[36m0:00:00\u001b[0ma \u001b[36m0:00:01\u001b[0m\n",
      "\u001b[?25hCollecting kiwisolver>=1.3.1 (from matplotlib)\n",
      "  Obtaining dependency information for kiwisolver>=1.3.1 from https://files.pythonhosted.org/packages/6f/40/4ab1fdb57fced80ce5903f04ae1aed7c1d5939dda4fd0c0aa526c12fe28a/kiwisolver-1.4.5-cp310-cp310-manylinux_2_12_x86_64.manylinux2010_x86_64.whl.metadata\n",
      "  Downloading kiwisolver-1.4.5-cp310-cp310-manylinux_2_12_x86_64.manylinux2010_x86_64.whl.metadata (6.4 kB)\n",
      "Requirement already satisfied: packaging>=20.0 in /opt/conda/lib/python3.10/site-packages (from matplotlib) (23.1)\n",
      "Requirement already satisfied: pillow>=8 in /opt/conda/lib/python3.10/site-packages (from matplotlib) (9.4.0)\n",
      "Collecting pyparsing>=2.3.1 (from matplotlib)\n",
      "  Obtaining dependency information for pyparsing>=2.3.1 from https://files.pythonhosted.org/packages/e5/0c/0e3c05b1c87bb6a1c76d281b0f35e78d2d80ac91b5f8f524cebf77f51049/pyparsing-3.1.4-py3-none-any.whl.metadata\n",
      "  Downloading pyparsing-3.1.4-py3-none-any.whl.metadata (5.1 kB)\n",
      "Requirement already satisfied: click in /opt/conda/lib/python3.10/site-packages (from nltk) (8.0.4)\n",
      "Collecting joblib (from nltk)\n",
      "  Obtaining dependency information for joblib from https://files.pythonhosted.org/packages/91/29/df4b9b42f2be0b623cbd5e2140cafcaa2bef0759a00b7b70104dcfe2fb51/joblib-1.4.2-py3-none-any.whl.metadata\n",
      "  Downloading joblib-1.4.2-py3-none-any.whl.metadata (5.4 kB)\n",
      "Requirement already satisfied: regex>=2021.8.3 in /opt/conda/lib/python3.10/site-packages (from nltk) (2023.10.3)\n",
      "Requirement already satisfied: tqdm in /opt/conda/lib/python3.10/site-packages (from nltk) (4.66.1)\n",
      "Requirement already satisfied: six>=1.5 in /opt/conda/lib/python3.10/site-packages (from python-dateutil>=2.8.2->pandas) (1.16.0)\n",
      "Downloading matplotlib-3.9.2-cp310-cp310-manylinux_2_17_x86_64.manylinux2014_x86_64.whl (8.3 MB)\n",
      "\u001b[2K   \u001b[90m━━━━━━━━━━━━━━━━━━━━━━━━━━━━━━━━━━━━━━━━\u001b[0m \u001b[32m8.3/8.3 MB\u001b[0m \u001b[31m17.3 MB/s\u001b[0m eta \u001b[36m0:00:00\u001b[0m00:01\u001b[0m00:01\u001b[0m\n",
      "\u001b[?25hDownloading seaborn-0.13.2-py3-none-any.whl (294 kB)\n",
      "\u001b[2K   \u001b[90m━━━━━━━━━━━━━━━━━━━━━━━━━━━━━━━━━━━━━━━━\u001b[0m \u001b[32m294.9/294.9 kB\u001b[0m \u001b[31m28.8 MB/s\u001b[0m eta \u001b[36m0:00:00\u001b[0m\n",
      "\u001b[?25hDownloading nltk-3.9.1-py3-none-any.whl (1.5 MB)\n",
      "\u001b[2K   \u001b[90m━━━━━━━━━━━━━━━━━━━━━━━━━━━━━━━━━━━━━━━━\u001b[0m \u001b[32m1.5/1.5 MB\u001b[0m \u001b[31m52.1 MB/s\u001b[0m eta \u001b[36m0:00:00\u001b[0m\n",
      "\u001b[?25hDownloading wordcloud-1.9.3-cp310-cp310-manylinux_2_17_x86_64.manylinux2014_x86_64.whl (511 kB)\n",
      "\u001b[2K   \u001b[90m━━━━━━━━━━━━━━━━━━━━━━━━━━━━━━━━━━━━━━━━\u001b[0m \u001b[32m511.1/511.1 kB\u001b[0m \u001b[31m37.3 MB/s\u001b[0m eta \u001b[36m0:00:00\u001b[0m\n",
      "\u001b[?25hDownloading contourpy-1.3.0-cp310-cp310-manylinux_2_17_x86_64.manylinux2014_x86_64.whl (322 kB)\n",
      "\u001b[2K   \u001b[90m━━━━━━━━━━━━━━━━━━━━━━━━━━━━━━━━━━━━━━━━\u001b[0m \u001b[32m322.0/322.0 kB\u001b[0m \u001b[31m28.5 MB/s\u001b[0m eta \u001b[36m0:00:00\u001b[0m\n",
      "\u001b[?25hDownloading cycler-0.12.1-py3-none-any.whl (8.3 kB)\n",
      "Downloading fonttools-4.53.1-cp310-cp310-manylinux_2_17_x86_64.manylinux2014_x86_64.whl (4.6 MB)\n",
      "\u001b[2K   \u001b[90m━━━━━━━━━━━━━━━━━━━━━━━━━━━━━━━━━━━━━━━━\u001b[0m \u001b[32m4.6/4.6 MB\u001b[0m \u001b[31m40.8 MB/s\u001b[0m eta \u001b[36m0:00:00\u001b[0m00:01\u001b[0m:00:01\u001b[0m\n",
      "\u001b[?25hDownloading kiwisolver-1.4.5-cp310-cp310-manylinux_2_12_x86_64.manylinux2010_x86_64.whl (1.6 MB)\n",
      "\u001b[2K   \u001b[90m━━━━━━━━━━━━━━━━━━━━━━━━━━━━━━━━━━━━━━━━\u001b[0m \u001b[32m1.6/1.6 MB\u001b[0m \u001b[31m70.9 MB/s\u001b[0m eta \u001b[36m0:00:00\u001b[0m\n",
      "\u001b[?25hDownloading pyparsing-3.1.4-py3-none-any.whl (104 kB)\n",
      "\u001b[2K   \u001b[90m━━━━━━━━━━━━━━━━━━━━━━━━━━━━━━━━━━━━━━━━\u001b[0m \u001b[32m104.1/104.1 kB\u001b[0m \u001b[31m11.3 MB/s\u001b[0m eta \u001b[36m0:00:00\u001b[0m\n",
      "\u001b[?25hDownloading joblib-1.4.2-py3-none-any.whl (301 kB)\n",
      "\u001b[2K   \u001b[90m━━━━━━━━━━━━━━━━━━━━━━━━━━━━━━━━━━━━━━━━\u001b[0m \u001b[32m301.8/301.8 kB\u001b[0m \u001b[31m27.4 MB/s\u001b[0m eta \u001b[36m0:00:00\u001b[0m\n",
      "\u001b[?25hInstalling collected packages: pyparsing, kiwisolver, joblib, fonttools, cycler, contourpy, nltk, matplotlib, wordcloud, seaborn\n",
      "Successfully installed contourpy-1.3.0 cycler-0.12.1 fonttools-4.53.1 joblib-1.4.2 kiwisolver-1.4.5 matplotlib-3.9.2 nltk-3.9.1 pyparsing-3.1.4 seaborn-0.13.2 wordcloud-1.9.3\n",
      "\u001b[33mWARNING: Running pip as the 'root' user can result in broken permissions and conflicting behaviour with the system package manager. It is recommended to use a virtual environment instead: https://pip.pypa.io/warnings/venv\u001b[0m\u001b[33m\n",
      "\u001b[0mNote: you may need to restart the kernel to use updated packages.\n"
     ]
    }
   ],
   "source": [
    "pip install pandas numpy matplotlib seaborn nltk wordcloud"
   ]
  },
  {
   "cell_type": "code",
   "execution_count": 1,
   "metadata": {},
   "outputs": [
    {
     "name": "stderr",
     "output_type": "stream",
     "text": [
      "[nltk_data] Downloading package punkt to\n",
      "[nltk_data]     /data/ephemeral/home/nltk_data...\n",
      "[nltk_data]   Package punkt is already up-to-date!\n",
      "[nltk_data] Downloading package stopwords to\n",
      "[nltk_data]     /data/ephemeral/home/nltk_data...\n",
      "[nltk_data]   Package stopwords is already up-to-date!\n"
     ]
    },
    {
     "data": {
      "text/plain": [
       "True"
      ]
     },
     "execution_count": 1,
     "metadata": {},
     "output_type": "execute_result"
    }
   ],
   "source": [
    "import pandas as pd\n",
    "import numpy as np\n",
    "import matplotlib.pyplot as plt\n",
    "import seaborn as sns\n",
    "from wordcloud import WordCloud\n",
    "from collections import Counter\n",
    "import nltk\n",
    "from nltk.corpus import stopwords\n",
    "from nltk.tokenize import word_tokenize\n",
    "\n",
    "# NLTK 데이터 다운로드 (처음 한 번만 실행)\n",
    "nltk.download('punkt')\n",
    "nltk.download('stopwords')"
   ]
  },
  {
   "cell_type": "code",
   "execution_count": 2,
   "metadata": {},
   "outputs": [
    {
     "data": {
      "text/html": [
       "<div>\n",
       "<style scoped>\n",
       "    .dataframe tbody tr th:only-of-type {\n",
       "        vertical-align: middle;\n",
       "    }\n",
       "\n",
       "    .dataframe tbody tr th {\n",
       "        vertical-align: top;\n",
       "    }\n",
       "\n",
       "    .dataframe thead th {\n",
       "        text-align: right;\n",
       "    }\n",
       "</style>\n",
       "<table border=\"1\" class=\"dataframe\">\n",
       "  <thead>\n",
       "    <tr style=\"text-align: right;\">\n",
       "      <th></th>\n",
       "      <th>fname</th>\n",
       "      <th>dialogue</th>\n",
       "      <th>dialogue_en</th>\n",
       "    </tr>\n",
       "  </thead>\n",
       "  <tbody>\n",
       "    <tr>\n",
       "      <th>0</th>\n",
       "      <td>test_400</td>\n",
       "      <td>#Person1#: 안녕하세요. 세입자 지원 센터입니다.#Person2#: 안녕하세...</td>\n",
       "      <td>#Person1#: Hello. This is the Tenant Assistanc...</td>\n",
       "    </tr>\n",
       "    <tr>\n",
       "      <th>1</th>\n",
       "      <td>test_401</td>\n",
       "      <td>#Person1#: 안녕하세요, 여사님. 오늘 어떤 도움을 드릴까요?#Person2...</td>\n",
       "      <td>#Person1#: Hello, ma'am. How can I help you to...</td>\n",
       "    </tr>\n",
       "    <tr>\n",
       "      <th>2</th>\n",
       "      <td>test_402</td>\n",
       "      <td>#Person1#: 아, 아니야. 찰리, 내 지갑 어디에 있지?#Person2#: ...</td>\n",
       "      <td>#Person1#: Oh, no. Charlie, where's my wallet?...</td>\n",
       "    </tr>\n",
       "    <tr>\n",
       "      <th>3</th>\n",
       "      <td>test_403</td>\n",
       "      <td>#Person1#: 저는 이제 일주일 동안 설거지를 하고 있어요.#Person2#:...</td>\n",
       "      <td>#Person1#: I've been doing the dishes for a we...</td>\n",
       "    </tr>\n",
       "    <tr>\n",
       "      <th>4</th>\n",
       "      <td>test_404</td>\n",
       "      <td>#Person1#: 우리 이야기 좀 할 수 있을까?#Person2#: 그럼, 자기야...</td>\n",
       "      <td>#Person1#: Can we talk?#Person2#: Well, honey,...</td>\n",
       "    </tr>\n",
       "  </tbody>\n",
       "</table>\n",
       "</div>"
      ],
      "text/plain": [
       "      fname                                           dialogue  \\\n",
       "0  test_400  #Person1#: 안녕하세요. 세입자 지원 센터입니다.#Person2#: 안녕하세...   \n",
       "1  test_401  #Person1#: 안녕하세요, 여사님. 오늘 어떤 도움을 드릴까요?#Person2...   \n",
       "2  test_402  #Person1#: 아, 아니야. 찰리, 내 지갑 어디에 있지?#Person2#: ...   \n",
       "3  test_403  #Person1#: 저는 이제 일주일 동안 설거지를 하고 있어요.#Person2#:...   \n",
       "4  test_404  #Person1#: 우리 이야기 좀 할 수 있을까?#Person2#: 그럼, 자기야...   \n",
       "\n",
       "                                         dialogue_en  \n",
       "0  #Person1#: Hello. This is the Tenant Assistanc...  \n",
       "1  #Person1#: Hello, ma'am. How can I help you to...  \n",
       "2  #Person1#: Oh, no. Charlie, where's my wallet?...  \n",
       "3  #Person1#: I've been doing the dishes for a we...  \n",
       "4  #Person1#: Can we talk?#Person2#: Well, honey,...  "
      ]
     },
     "execution_count": 2,
     "metadata": {},
     "output_type": "execute_result"
    }
   ],
   "source": [
    "# CSV 파일로 된 텍스트 데이터 로드 (예: 대화와 요약 데이터)\n",
    "df = pd.read_csv('/data/ephemeral/home/data/data/test_en.csv')\n",
    "\n",
    "# 데이터프레임의 처음 몇 줄 확인\n",
    "df.head(5)"
   ]
  },
  {
   "cell_type": "markdown",
   "metadata": {},
   "source": [
    "# 마스킹 패턴 찾기"
   ]
  },
  {
   "cell_type": "code",
   "execution_count": 3,
   "metadata": {},
   "outputs": [
    {
     "name": "stdout",
     "output_type": "stream",
     "text": [
      "고유한 특수 토큰들: {'#PassportNumber#', '#Address#', '#Person1#', '#Person2#', '#PhoneNumber#', '#Person3#'}\n"
     ]
    }
   ],
   "source": [
    "import re\n",
    "import pandas as pd\n",
    "\n",
    "def reg_masking(text):\n",
    "    pattern = r\"#\\w+#\"  # #로 둘러싸인 단어들을 찾는 정규식 패턴\n",
    "    masked = re.findall(pattern, text)\n",
    "    return set(masked)  # 중복을 제거하고 고유한 토큰들의 집합을 반환\n",
    "\n",
    "\n",
    "# `reg_masking`을 호출하고 결과를 문자열로 변환하여 저장\n",
    "df['masked_patterns'] = df['dialogue_en'].apply(lambda x: str(reg_masking(x)))\n",
    "\n",
    "# 문자열로 저장된 집합을 실제 집합(set)으로 변환\n",
    "df['masked_patterns'] = df['masked_patterns'].apply(eval)\n",
    "\n",
    "# 모든 행에 있는 세트들의 합집합을 구함\n",
    "all_unique_tokens = set.union(*df['masked_patterns'])\n",
    "\n",
    "print(\"고유한 특수 토큰들:\", all_unique_tokens)\n"
   ]
  },
  {
   "cell_type": "markdown",
   "metadata": {},
   "source": [
    "# dialogue, summary 길이"
   ]
  },
  {
   "cell_type": "code",
   "execution_count": 7,
   "metadata": {},
   "outputs": [
    {
     "name": "stdout",
     "output_type": "stream",
     "text": [
      "       dialogue_turns  number_of_speakers  text_length\n",
      "count      499.000000          499.000000   499.000000\n",
      "mean         9.685371            2.008016   631.326653\n",
      "std          4.987455            0.089262   367.059748\n",
      "min          2.000000            2.000000   147.000000\n",
      "25%          7.000000            2.000000   366.000000\n",
      "50%          9.000000            2.000000   557.000000\n",
      "75%         12.000000            2.000000   795.500000\n",
      "max         65.000000            3.000000  3457.000000\n"
     ]
    }
   ],
   "source": [
    "import re\n",
    "import pandas as pd\n",
    "\n",
    "# 제거할 특수 토큰 리스트\n",
    "special_tokens_all = ['#PassportNumber#', '#Address#', '#Person1#:', '#Person2#:', '#PhoneNumber#', '#Person3#:']\n",
    "special_tokens_n = ['\\n']\n",
    "special_tokens = ['\\n', '#PassportNumber#', '#Address#','#PhoneNumber#']\n",
    "speaker_tokens = ['#Person1#:', '#Person2#:', '#Person3#:']\n",
    "\n",
    "# 특수 토큰을 제거하는 함수 정의\n",
    "def remove_special_tokens(text):\n",
    "    for token in special_tokens:\n",
    "        text = text.replace(token, '')  # 특수 토큰을 빈 문자열로 대체\n",
    "    return text\n",
    "\n",
    "# 대화의 turn 수를 세는 함수\n",
    "def count_dialogue_turns(text):\n",
    "    # 화자 태그 패턴을 정의합니다 (예: #Person1#, #Person2# 등)\n",
    "    speaker_pattern = r\"#Person\\d+#\"\n",
    "    \n",
    "    # 모든 화자 태그를 찾아 리스트로 반환합니다\n",
    "    speakers = re.findall(speaker_pattern, text)\n",
    "    \n",
    "    # 화자가 변경될 때마다 턴을 카운트합니다\n",
    "    turn_count = 0\n",
    "    current_speaker = None\n",
    "    \n",
    "    for speaker in speakers:\n",
    "        if speaker != current_speaker:\n",
    "            turn_count += 1\n",
    "            current_speaker = speaker\n",
    "            \n",
    "    return turn_count\n",
    "\n",
    "# '\\n'을 제거하는 함수 정의\n",
    "def remove_special_tokens_n(text):\n",
    "    for token in special_tokens_n:\n",
    "        text = text.replace(token, '')  # 특수 토큰을 빈 문자열로 대체\n",
    "    return text\n",
    "\n",
    "#  제거하는 함수 정의\n",
    "def remove_speaker_tokens(text):\n",
    "    for token in speaker_tokens:\n",
    "        text = text.replace(token, '')  # 특수 토큰을 빈 문자열로 대체\n",
    "    return text\n",
    "\n",
    "def count_speakers(text):\n",
    "    # 화자 식별자에 대한 정규식 패턴 생성\n",
    "    pattern = r'(' + '|'.join(re.escape(token) for token in speaker_tokens) + ')'\n",
    "    # 텍스트에서 패턴에 매칭되는 모든 항목을 찾아 집합으로 변환\n",
    "    speakers = set(re.findall(pattern, text))\n",
    "    # 집합의 크기(고유 화자 수) 반환\n",
    "    return len(speakers)\n",
    "\n",
    "# 대화 및 요약에서 특수 토큰을 제거한 텍스트 생성\n",
    "df['cleaned_dialogue'] = df['dialogue_en'].apply(remove_special_tokens_n)\n",
    "\n",
    "# 대화의 turn 수 계산\n",
    "df['dialogue_turns'] = df['dialogue_en'].apply(count_dialogue_turns)\n",
    "df['number_of_speakers'] = df['dialogue_en'].apply(count_speakers)\n",
    "\n",
    "# 텍스트 길이 계산\n",
    "df['cleaned_dialogue2'] = df['cleaned_dialogue'].apply(remove_speaker_tokens)\n",
    "df['text_length'] = df['cleaned_dialogue2'].apply(len)\n",
    "\n",
    "# 텍스트 길이 및 turn 수, 화자 수 통계 출력\n",
    "print(df[['dialogue_turns', 'number_of_speakers','text_length']].describe())\n"
   ]
  },
  {
   "cell_type": "code",
   "execution_count": 8,
   "metadata": {},
   "outputs": [
    {
     "data": {
      "text/html": [
       "<div>\n",
       "<style scoped>\n",
       "    .dataframe tbody tr th:only-of-type {\n",
       "        vertical-align: middle;\n",
       "    }\n",
       "\n",
       "    .dataframe tbody tr th {\n",
       "        vertical-align: top;\n",
       "    }\n",
       "\n",
       "    .dataframe thead th {\n",
       "        text-align: right;\n",
       "    }\n",
       "</style>\n",
       "<table border=\"1\" class=\"dataframe\">\n",
       "  <thead>\n",
       "    <tr style=\"text-align: right;\">\n",
       "      <th></th>\n",
       "      <th>dialogue_turns</th>\n",
       "      <th>number_of_speakers</th>\n",
       "      <th>text_length</th>\n",
       "    </tr>\n",
       "  </thead>\n",
       "  <tbody>\n",
       "    <tr>\n",
       "      <th>count</th>\n",
       "      <td>499.000000</td>\n",
       "      <td>499.000000</td>\n",
       "      <td>499.000000</td>\n",
       "    </tr>\n",
       "    <tr>\n",
       "      <th>mean</th>\n",
       "      <td>9.685371</td>\n",
       "      <td>2.008016</td>\n",
       "      <td>631.326653</td>\n",
       "    </tr>\n",
       "    <tr>\n",
       "      <th>std</th>\n",
       "      <td>4.987455</td>\n",
       "      <td>0.089262</td>\n",
       "      <td>367.059748</td>\n",
       "    </tr>\n",
       "    <tr>\n",
       "      <th>min</th>\n",
       "      <td>2.000000</td>\n",
       "      <td>2.000000</td>\n",
       "      <td>147.000000</td>\n",
       "    </tr>\n",
       "    <tr>\n",
       "      <th>25%</th>\n",
       "      <td>7.000000</td>\n",
       "      <td>2.000000</td>\n",
       "      <td>366.000000</td>\n",
       "    </tr>\n",
       "    <tr>\n",
       "      <th>50%</th>\n",
       "      <td>9.000000</td>\n",
       "      <td>2.000000</td>\n",
       "      <td>557.000000</td>\n",
       "    </tr>\n",
       "    <tr>\n",
       "      <th>75%</th>\n",
       "      <td>12.000000</td>\n",
       "      <td>2.000000</td>\n",
       "      <td>795.500000</td>\n",
       "    </tr>\n",
       "    <tr>\n",
       "      <th>max</th>\n",
       "      <td>65.000000</td>\n",
       "      <td>3.000000</td>\n",
       "      <td>3457.000000</td>\n",
       "    </tr>\n",
       "  </tbody>\n",
       "</table>\n",
       "</div>"
      ],
      "text/plain": [
       "       dialogue_turns  number_of_speakers  text_length\n",
       "count      499.000000          499.000000   499.000000\n",
       "mean         9.685371            2.008016   631.326653\n",
       "std          4.987455            0.089262   367.059748\n",
       "min          2.000000            2.000000   147.000000\n",
       "25%          7.000000            2.000000   366.000000\n",
       "50%          9.000000            2.000000   557.000000\n",
       "75%         12.000000            2.000000   795.500000\n",
       "max         65.000000            3.000000  3457.000000"
      ]
     },
     "execution_count": 8,
     "metadata": {},
     "output_type": "execute_result"
    }
   ],
   "source": [
    "df[['dialogue_turns', 'number_of_speakers','text_length']].describe()"
   ]
  },
  {
   "cell_type": "code",
   "execution_count": 9,
   "metadata": {},
   "outputs": [
    {
     "data": {
      "image/png": "[encoded data removed]",
      "text/plain": [
       "<Figure size 500x300 with 1 Axes>"
      ]
     },
     "metadata": {},
     "output_type": "display_data"
    },
    {
     "data": {
      "image/png": "[encoded data removed]",
      "text/plain": [
       "<Figure size 500x300 with 1 Axes>"
      ]
     },
     "metadata": {},
     "output_type": "display_data"
    },
    {
     "data": {
      "image/png": "[encoded data removed]",
      "text/plain": [
       "<Figure size 500x300 with 1 Axes>"
      ]
     },
     "metadata": {},
     "output_type": "display_data"
    }
   ],
   "source": [
    "import matplotlib.pyplot as plt\n",
    "\n",
    "# 'dialogue_turns'의 히스토그램\n",
    "plt.figure(figsize=(5, 3))\n",
    "plt.hist(df['dialogue_turns'], bins=20, color='skyblue', edgecolor='black')\n",
    "plt.title('Distribution of Dialogue Turns')\n",
    "plt.xlabel('Number of Turns')\n",
    "plt.ylabel('Frequency')\n",
    "plt.grid(True)\n",
    "plt.show()\n",
    "\n",
    "# 'number_of_speakers'의 히스토그램\n",
    "plt.figure(figsize=(5, 3))\n",
    "plt.hist(df['number_of_speakers'], bins=20, color='green', edgecolor='black')\n",
    "plt.title('Distribution of Number of Speakers')\n",
    "plt.xlabel('Number of Speakers')\n",
    "plt.ylabel('Frequency')\n",
    "plt.grid(True)\n",
    "plt.show()\n",
    "\n",
    "# 'text_length'의 히스토그램\n",
    "plt.figure(figsize=(5, 3))\n",
    "plt.hist(df['text_length'], bins=20, color='red', edgecolor='black')\n",
    "plt.title('Distribution of Text Length')\n",
    "plt.xlabel('Text Length')\n",
    "plt.ylabel('Frequency')\n",
    "plt.grid(True)\n",
    "plt.show()\n",
    "\n"
   ]
  },
  {
   "cell_type": "code",
   "execution_count": 7,
   "metadata": {},
   "outputs": [
    {
     "data": {
      "text/plain": [
       "'#Person1#: 더슨 씨, 받아쓰기 좀 해주세요. \\n#Person2#: 네, 실장님...\\n#Person1#: 이것은 오늘 오후까지 모든 직원에게 내부 메모로 전달되어야 합니다. 준비되셨나요?\\n#Person2#: 네, 실장님. 시작하셔도 됩니다.\\n#Person1#: 모든 직원들에게 주의하라... 즉시 효력을 발휘하여, 모든 사무실 통신은 이메일 통신과 공식 메모로 제한됩니다. 근무 시간 동안 직원들이 즉시 메시지 프로그램을 사용하는 것은 엄격히 금지됩니다.\\n#Person2#: 실장님, 이것은 내부 통신에만 적용되는 건가요? 아니면 외부 통신에도 제한이 되는 건가요?\\n#Person1#: 이것은 모든 통신에 적용되어야 합니다, 이 사무실 내의 직원들 사이뿐만 아니라 외부 통신에도 마찬가지입니다.\\n#Person2#: 하지만 실장님, 많은 직원들이 고객과 소통하기 위해 즉시 메시지를 사용하고 있습니다.\\n#Person1#: 그들은 그들의 의사소통 방법을 바꾸어야만 합니다. 이 사무실에서 누구도 즉시 메시지를 사용하지 않기를 원합니다. 너무 많은 시간을 낭비하게 됩니다! 이제, 메모를 계속해주세요. 우리가 어디까지 했나요?\\n#Person2#: 이것은 내부와 외부 통신에 적용됩니다.\\n#Person1#: 그렇습니다. 즉시 메시지를 계속 사용하는 어떤 직원이라도 먼저 경고를 받고 직무 정지에 처해질 것입니다. 두 번째 위반 시에는 직원은 해고에 처해질 것입니다. 이 새로운 정책에 대한 어떤 질문이라도 부서장에게 직접 문의하면 됩니다.\\n#Person2#: 그게 다신가요?\\n#Person1#: 네. 이 메모를 오후 4시 전에 모든 직원에게 타이핑하여 배포해 주세요.'"
      ]
     },
     "execution_count": 7,
     "metadata": {},
     "output_type": "execute_result"
    }
   ],
   "source": [
    "import pandas as pd\n",
    "\n",
    "# 출력할 최대 열 수 설정\n",
    "pd.set_option('display.max_columns', None)\n",
    "\n",
    "# 출력할 최대 행 수 설정\n",
    "pd.set_option('display.max_rows', None)\n",
    "\n",
    "# 첫 번째 행 출력\n",
    "df.iloc[0]['dialogue']"
   ]
  },
  {
   "cell_type": "code",
   "execution_count": 8,
   "metadata": {},
   "outputs": [
    {
     "data": {
      "text/plain": [
       "' 드디어 왔네! 왜 그렇게 오래 걸렸어? 또 교통 체증에 걸렸어. 까르푸 교차로에서 엄청난 교통 체증이 있었어. 그곳은 출퇴근 시간에 항상 교통이 많이 밀리는 편이야. 집에 가는 다른 길을 찾아 보도록 해.  솔직히 말하면 피할 수 없는 것 같아. 아마 너가 대중교통을 이용하기 시작한다면 더 좋을 것 같아. 그건 고려해봐야 할 것 같아. 대중교통 시스템이 꽤 괜찮아. 환경에도 더 좋을 거야. 알아. 내 차가 이 도시의 오염 문제에 얼마나 기여하고 있는지 나도 느낄 수 있어. 지하철을 타는 것이 운전하는 것보다 훨씬 스트레스를 덜 받을 수 있을 거야. 유일한 문제는 차를 가지고 있는 자유를 정말로 그리워할 것 같다는 거야. 그럼, 날씨가 좋을 때는 자전거로 출근해봐. 그게 너의 차가 주는 자유와 같을 거야. 그게 맞는 말이야. 운동도 좀 해야겠어! 그럼, 너 출근할 때 운전하는 걸 그만두려고 해? 그래, 나에게도 환경에게도 좋지 않아.'"
      ]
     },
     "execution_count": 8,
     "metadata": {},
     "output_type": "execute_result"
    }
   ],
   "source": [
    "df.iloc[1]['cleaned_dialogue2']"
   ]
  },
  {
   "cell_type": "code",
   "execution_count": 10,
   "metadata": {},
   "outputs": [
    {
     "data": {
      "text/html": [
       "<div>\n",
       "<style scoped>\n",
       "    .dataframe tbody tr th:only-of-type {\n",
       "        vertical-align: middle;\n",
       "    }\n",
       "\n",
       "    .dataframe tbody tr th {\n",
       "        vertical-align: top;\n",
       "    }\n",
       "\n",
       "    .dataframe thead th {\n",
       "        text-align: right;\n",
       "    }\n",
       "</style>\n",
       "<table border=\"1\" class=\"dataframe\">\n",
       "  <thead>\n",
       "    <tr style=\"text-align: right;\">\n",
       "      <th></th>\n",
       "      <th>fname</th>\n",
       "      <th>dialogue</th>\n",
       "      <th>masked_patterns</th>\n",
       "      <th>cleaned_dialogue</th>\n",
       "      <th>dialogue_turns</th>\n",
       "      <th>number_of_speakers</th>\n",
       "      <th>cleaned_dialogue2</th>\n",
       "      <th>text_length</th>\n",
       "    </tr>\n",
       "  </thead>\n",
       "  <tbody>\n",
       "    <tr>\n",
       "      <th>0</th>\n",
       "      <td>test_0</td>\n",
       "      <td>#Person1#: 더슨 씨, 받아쓰기 좀 해주세요. \\n#Person2#: 네, ...</td>\n",
       "      <td>{#Person2#, #Person1#}</td>\n",
       "      <td>더슨 씨, 받아쓰기 좀 해주세요. \\n 네, 실장님...\\n 이것은 오늘 오후까지...</td>\n",
       "      <td>13</td>\n",
       "      <td>2</td>\n",
       "      <td>더슨 씨, 받아쓰기 좀 해주세요.  네, 실장님... 이것은 오늘 오후까지 모든 ...</td>\n",
       "      <td>679</td>\n",
       "    </tr>\n",
       "    <tr>\n",
       "      <th>1</th>\n",
       "      <td>test_1</td>\n",
       "      <td>#Person1#: 드디어 왔네! 왜 그렇게 오래 걸렸어?\\n#Person2#: 또...</td>\n",
       "      <td>{#Person2#, #Person1#}</td>\n",
       "      <td>드디어 왔네! 왜 그렇게 오래 걸렸어?\\n 또 교통 체증에 걸렸어. 까르푸 교차로...</td>\n",
       "      <td>14</td>\n",
       "      <td>2</td>\n",
       "      <td>드디어 왔네! 왜 그렇게 오래 걸렸어? 또 교통 체증에 걸렸어. 까르푸 교차로에서...</td>\n",
       "      <td>472</td>\n",
       "    </tr>\n",
       "    <tr>\n",
       "      <th>2</th>\n",
       "      <td>test_2</td>\n",
       "      <td>#Person1#: 케이트, 무슨 일이 일어났는지 너는 믿지 못할거야. \\n#Per...</td>\n",
       "      <td>{#Person2#, #Person1#}</td>\n",
       "      <td>케이트, 무슨 일이 일어났는지 너는 믿지 못할거야. \\n 어떤 말이야?\\n 마샤와...</td>\n",
       "      <td>9</td>\n",
       "      <td>2</td>\n",
       "      <td>케이트, 무슨 일이 일어났는지 너는 믿지 못할거야.  어떤 말이야? 마샤와 히어로...</td>\n",
       "      <td>383</td>\n",
       "    </tr>\n",
       "    <tr>\n",
       "      <th>3</th>\n",
       "      <td>test_3</td>\n",
       "      <td>#Person1#: 생일 축하해, 이건 너를 위한 거야, 브라이언.\\n#Person...</td>\n",
       "      <td>{#Person2#, #Person1#}</td>\n",
       "      <td>생일 축하해, 이건 너를 위한 거야, 브라이언.\\n 기억해줘서 너무 행복해, 들어...</td>\n",
       "      <td>9</td>\n",
       "      <td>2</td>\n",
       "      <td>생일 축하해, 이건 너를 위한 거야, 브라이언. 기억해줘서 너무 행복해, 들어와서...</td>\n",
       "      <td>290</td>\n",
       "    </tr>\n",
       "    <tr>\n",
       "      <th>4</th>\n",
       "      <td>test_4</td>\n",
       "      <td>#Person1#: 이 올림픽 공원이 정말 크네요!\\n#Person2#: 네. 지금...</td>\n",
       "      <td>{#Person2#, #Person1#}</td>\n",
       "      <td>이 올림픽 공원이 정말 크네요!\\n 네. 지금 우리는 이 공원의 중심인 올림픽 스...</td>\n",
       "      <td>10</td>\n",
       "      <td>2</td>\n",
       "      <td>이 올림픽 공원이 정말 크네요! 네. 지금 우리는 이 공원의 중심인 올림픽 스타디...</td>\n",
       "      <td>280</td>\n",
       "    </tr>\n",
       "  </tbody>\n",
       "</table>\n",
       "</div>"
      ],
      "text/plain": [
       "    fname                                           dialogue  \\\n",
       "0  test_0  #Person1#: 더슨 씨, 받아쓰기 좀 해주세요. \\n#Person2#: 네, ...   \n",
       "1  test_1  #Person1#: 드디어 왔네! 왜 그렇게 오래 걸렸어?\\n#Person2#: 또...   \n",
       "2  test_2  #Person1#: 케이트, 무슨 일이 일어났는지 너는 믿지 못할거야. \\n#Per...   \n",
       "3  test_3  #Person1#: 생일 축하해, 이건 너를 위한 거야, 브라이언.\\n#Person...   \n",
       "4  test_4  #Person1#: 이 올림픽 공원이 정말 크네요!\\n#Person2#: 네. 지금...   \n",
       "\n",
       "          masked_patterns                                   cleaned_dialogue  \\\n",
       "0  {#Person2#, #Person1#}   더슨 씨, 받아쓰기 좀 해주세요. \\n 네, 실장님...\\n 이것은 오늘 오후까지...   \n",
       "1  {#Person2#, #Person1#}   드디어 왔네! 왜 그렇게 오래 걸렸어?\\n 또 교통 체증에 걸렸어. 까르푸 교차로...   \n",
       "2  {#Person2#, #Person1#}   케이트, 무슨 일이 일어났는지 너는 믿지 못할거야. \\n 어떤 말이야?\\n 마샤와...   \n",
       "3  {#Person2#, #Person1#}   생일 축하해, 이건 너를 위한 거야, 브라이언.\\n 기억해줘서 너무 행복해, 들어...   \n",
       "4  {#Person2#, #Person1#}   이 올림픽 공원이 정말 크네요!\\n 네. 지금 우리는 이 공원의 중심인 올림픽 스...   \n",
       "\n",
       "   dialogue_turns  number_of_speakers  \\\n",
       "0              13                   2   \n",
       "1              14                   2   \n",
       "2               9                   2   \n",
       "3               9                   2   \n",
       "4              10                   2   \n",
       "\n",
       "                                   cleaned_dialogue2  text_length  \n",
       "0   더슨 씨, 받아쓰기 좀 해주세요.  네, 실장님... 이것은 오늘 오후까지 모든 ...          679  \n",
       "1   드디어 왔네! 왜 그렇게 오래 걸렸어? 또 교통 체증에 걸렸어. 까르푸 교차로에서...          472  \n",
       "2   케이트, 무슨 일이 일어났는지 너는 믿지 못할거야.  어떤 말이야? 마샤와 히어로...          383  \n",
       "3   생일 축하해, 이건 너를 위한 거야, 브라이언. 기억해줘서 너무 행복해, 들어와서...          290  \n",
       "4   이 올림픽 공원이 정말 크네요! 네. 지금 우리는 이 공원의 중심인 올림픽 스타디...          280  "
      ]
     },
     "execution_count": 10,
     "metadata": {},
     "output_type": "execute_result"
    }
   ],
   "source": [
    "df.head()"
   ]
  }
 ],
 "metadata": {
  "kernelspec": {
   "display_name": "base",
   "language": "python",
   "name": "python3"
  },
  "language_info": {
   "codemirror_mode": {
    "name": "ipython",
    "version": 3
   },
   "file_extension": ".py",
   "mimetype": "text/x-python",
   "name": "python",
   "nbconvert_exporter": "python",
   "pygments_lexer": "ipython3",
   "version": "3.10.13"
  }
 },
 "nbformat": 4,
 "nbformat_minor": 2
}
