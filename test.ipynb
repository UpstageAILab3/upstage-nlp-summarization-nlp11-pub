{
 "cells": [
  {
   "cell_type": "code",
   "execution_count": 3,
   "metadata": {},
   "outputs": [
    {
     "name": "stdout",
     "output_type": "stream",
     "text": [
      "Collecting scikit-learn\n",
      "  Obtaining dependency information for scikit-learn from https://files.pythonhosted.org/packages/f2/60/6c589c91e474721efdcec82ea9cc5c743359e52637e46c364ee5236666ef/scikit_learn-1.5.1-cp310-cp310-manylinux_2_17_x86_64.manylinux2014_x86_64.whl.metadata\n",
      "  Downloading scikit_learn-1.5.1-cp310-cp310-manylinux_2_17_x86_64.manylinux2014_x86_64.whl.metadata (12 kB)\n",
      "Requirement already satisfied: numpy>=1.19.5 in /opt/conda/lib/python3.10/site-packages (from scikit-learn) (1.23.5)\n",
      "Requirement already satisfied: scipy>=1.6.0 in /opt/conda/lib/python3.10/site-packages (from scikit-learn) (1.14.1)\n",
      "Requirement already satisfied: joblib>=1.2.0 in /opt/conda/lib/python3.10/site-packages (from scikit-learn) (1.4.2)\n",
      "Collecting threadpoolctl>=3.1.0 (from scikit-learn)\n",
      "  Obtaining dependency information for threadpoolctl>=3.1.0 from https://files.pythonhosted.org/packages/4b/2c/ffbf7a134b9ab11a67b0cf0726453cedd9c5043a4fe7a35d1cefa9a1bcfb/threadpoolctl-3.5.0-py3-none-any.whl.metadata\n",
      "  Downloading threadpoolctl-3.5.0-py3-none-any.whl.metadata (13 kB)\n",
      "Downloading scikit_learn-1.5.1-cp310-cp310-manylinux_2_17_x86_64.manylinux2014_x86_64.whl (13.4 MB)\n",
      "\u001b[2K   \u001b[90m━━━━━━━━━━━━━━━━━━━━━━━━━━━━━━━━━━━━━━━━\u001b[0m \u001b[32m13.4/13.4 MB\u001b[0m \u001b[31m34.0 MB/s\u001b[0m eta \u001b[36m0:00:00\u001b[0m00:01\u001b[0m00:01\u001b[0m\n",
      "\u001b[?25hDownloading threadpoolctl-3.5.0-py3-none-any.whl (18 kB)\n",
      "Installing collected packages: threadpoolctl, scikit-learn\n",
      "Successfully installed scikit-learn-1.5.1 threadpoolctl-3.5.0\n",
      "\u001b[33mWARNING: Running pip as the 'root' user can result in broken permissions and conflicting behaviour with the system package manager. It is recommended to use a virtual environment instead: https://pip.pypa.io/warnings/venv\u001b[0m\u001b[33m\n",
      "\u001b[0m"
     ]
    }
   ],
   "source": [
    "!pip install scikit-learn"
   ]
  },
  {
   "cell_type": "code",
   "execution_count": 4,
   "metadata": {},
   "outputs": [
    {
     "name": "stdout",
     "output_type": "stream",
     "text": [
      "Ensembled Summary 1: first the this is summary\n",
      "Ensembled Summary 2: information first topic it on\n"
     ]
    }
   ],
   "source": [
    "from sklearn.feature_extraction.text import TfidfVectorizer\n",
    "import numpy as np\n",
    "# 모델의 요약 결과 (각 요약문 리스트)\n",
    "summary_model_1 = [\"This is the first summary.\", \"It contains information on the first topic.\"]\n",
    "summary_model_2 = [\"This is the initial summary.\", \"It has details on the first subject.\"]\n",
    "summary_model_3 = [\"The first summary is here.\", \"It includes data on the first topic.\"]\n",
    "# 가중치 설정 (모델 1에 높은 가중치, 모델 2, 3에 낮은 가중치)\n",
    "weights = [0.5, 0.3, 0.2]\n",
    "# TF-IDF 벡터화 (각 요약문의 중요도를 평가하기 위해 사용)\n",
    "vectorizer = TfidfVectorizer()\n",
    "# 요약문들을 하나로 묶어서 TF-IDF 계산\n",
    "all_summaries = summary_model_1 + summary_model_2 + summary_model_3\n",
    "tfidf_matrix = vectorizer.fit_transform(all_summaries).toarray()\n",
    "# 각 요약문의 가중치를 부여하여 가중 평균 계산\n",
    "weighted_summaries = (weights[0] * tfidf_matrix[:len(summary_model_1)] +\n",
    "                      weights[1] * tfidf_matrix[len(summary_model_1):len(summary_model_1) + len(summary_model_2)] +\n",
    "                      weights[2] * tfidf_matrix[len(summary_model_1) + len(summary_model_2):])\n",
    "# 가중 평균된 TF-IDF 결과를 원래 텍스트로 변환 (가장 높은 TF-IDF 점수 순으로 단어를 선택)\n",
    "feature_names = vectorizer.get_feature_names_out()\n",
    "def get_weighted_summary(weighted_matrix, feature_names, top_n=5):\n",
    "    summaries = []\n",
    "    for vector in weighted_matrix:\n",
    "        top_indices = vector.argsort()[-top_n:]  # 상위 N개의 단어 선택\n",
    "        summary = \" \".join([feature_names[i] for i in top_indices])\n",
    "        summaries.append(summary)\n",
    "    return summaries\n",
    "# 최종 앙상블 요약 결과 생성\n",
    "final_ensemble_summary = get_weighted_summary(weighted_summaries, feature_names)\n",
    "# 결과 출력\n",
    "for i, summary in enumerate(final_ensemble_summary):\n",
    "    print(f\"Ensembled Summary {i+1}: {summary}\")"
   ]
  }
 ],
 "metadata": {
  "kernelspec": {
   "display_name": "base",
   "language": "python",
   "name": "python3"
  },
  "language_info": {
   "codemirror_mode": {
    "name": "ipython",
    "version": 3
   },
   "file_extension": ".py",
   "mimetype": "text/x-python",
   "name": "python",
   "nbconvert_exporter": "python",
   "pygments_lexer": "ipython3",
   "version": "3.10.13"
  }
 },
 "nbformat": 4,
 "nbformat_minor": 2
}
