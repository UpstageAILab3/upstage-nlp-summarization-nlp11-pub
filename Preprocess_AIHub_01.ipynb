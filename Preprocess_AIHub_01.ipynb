{
 "cells": [
  {
   "cell_type": "markdown",
   "metadata": {},
   "source": [
    "### AI Hub 한국어 대화 요약 데이터셋을 우리 포맷에 맞도록 변형하여 train_AIHub_01.csv 파일로 저장.\n",
    "#### https://aihub.or.kr/aihubdata/data/view.do?dataSetSn=117"
   ]
  },
  {
   "cell_type": "code",
   "execution_count": 4,
   "metadata": {},
   "outputs": [],
   "source": [
    "import os\n",
    "import json\n",
    "import pandas as pd"
   ]
  },
  {
   "cell_type": "code",
   "execution_count": 5,
   "metadata": {},
   "outputs": [],
   "source": [
    "target_filepath = '../../data/train_AIHub_01.csv'\n",
    "\n",
    "with open(target_filepath, 'w', encoding='utf-8') as file:\n",
    "    file.write('fname,dialogue,summary,topic\\n')\n"
   ]
  },
  {
   "cell_type": "code",
   "execution_count": 6,
   "metadata": {},
   "outputs": [],
   "source": [
    "def getPersonStr(participantID):\n",
    "    num = int(participantID[1:3])\n",
    "    return f'#Person{num}#: '"
   ]
  },
  {
   "cell_type": "code",
   "execution_count": 7,
   "metadata": {},
   "outputs": [
    {
     "name": "stdout",
     "output_type": "stream",
     "text": [
      "['../../outside_data/AIHub_01/Training/개인및관계.json', '../../outside_data/AIHub_01/Training/주거와생활.json', '../../outside_data/AIHub_01/Training/시사교육.json', '../../outside_data/AIHub_01/Training/여가생활.json', '../../outside_data/AIHub_01/Training/식음료.json', '../../outside_data/AIHub_01/Training/행사.json', '../../outside_data/AIHub_01/Training/미용과건강.json', '../../outside_data/AIHub_01/Training/일과직업.json', '../../outside_data/AIHub_01/Training/상거래(쇼핑).json', '../../outside_data/AIHub_01/Validation/개인및관계.json', '../../outside_data/AIHub_01/Validation/주거와생활.json', '../../outside_data/AIHub_01/Validation/시사교육.json', '../../outside_data/AIHub_01/Validation/여가생활.json', '../../outside_data/AIHub_01/Validation/식음료.json', '../../outside_data/AIHub_01/Validation/행사.json', '../../outside_data/AIHub_01/Validation/미용과건강.json', '../../outside_data/AIHub_01/Validation/일과직업.json', '../../outside_data/AIHub_01/Validation/상거래(쇼핑).json']\n"
     ]
    }
   ],
   "source": [
    "json_paths = [\n",
    "    '../../outside_data/AIHub_01/Training', \n",
    "    '../../outside_data/AIHub_01/Validation']\n",
    "json_fullpaths = []\n",
    "\n",
    "for json_path in json_paths:\n",
    "    tmp = [os.path.join(json_path, f) for f in os.listdir(json_path) if f.endswith('.json')]\n",
    "    json_fullpaths.extend(tmp)\n",
    "\n",
    "print(json_fullpaths)"
   ]
  },
  {
   "cell_type": "code",
   "execution_count": 8,
   "metadata": {},
   "outputs": [
    {
     "name": "stdout",
     "output_type": "stream",
     "text": [
      "json filename = ../../outside_data/AIHub_01/Training/개인및관계.json\n",
      "json filename = ../../outside_data/AIHub_01/Training/주거와생활.json\n",
      "json filename = ../../outside_data/AIHub_01/Training/시사교육.json\n",
      "json filename = ../../outside_data/AIHub_01/Training/여가생활.json\n",
      "json filename = ../../outside_data/AIHub_01/Training/식음료.json\n",
      "json filename = ../../outside_data/AIHub_01/Training/행사.json\n",
      "json filename = ../../outside_data/AIHub_01/Training/미용과건강.json\n",
      "json filename = ../../outside_data/AIHub_01/Training/일과직업.json\n",
      "json filename = ../../outside_data/AIHub_01/Training/상거래(쇼핑).json\n",
      "json filename = ../../outside_data/AIHub_01/Validation/개인및관계.json\n",
      "json filename = ../../outside_data/AIHub_01/Validation/주거와생활.json\n",
      "json filename = ../../outside_data/AIHub_01/Validation/시사교육.json\n",
      "json filename = ../../outside_data/AIHub_01/Validation/여가생활.json\n",
      "json filename = ../../outside_data/AIHub_01/Validation/식음료.json\n",
      "json filename = ../../outside_data/AIHub_01/Validation/행사.json\n",
      "json filename = ../../outside_data/AIHub_01/Validation/미용과건강.json\n",
      "json filename = ../../outside_data/AIHub_01/Validation/일과직업.json\n",
      "json filename = ../../outside_data/AIHub_01/Validation/상거래(쇼핑).json\n"
     ]
    }
   ],
   "source": [
    "\n",
    "for json_fullpath in json_fullpaths:    \n",
    "    print(f\"json filename = {json_fullpath}\")\n",
    "    \n",
    "    with open(json_fullpath, 'r', encoding='utf-8') as file:\n",
    "        data = json.load(file)\n",
    "\n",
    "    dialogues = []\n",
    "    summarys = []\n",
    "\n",
    "    for data_dic in data['data']:\n",
    "        dialog = \"\"\n",
    "        \n",
    "        for dialog_dic in data_dic['body']['dialogue']:\n",
    "            if len(dialog) > 0:\n",
    "                dialog += \"\\n\"\n",
    "            \n",
    "            dialog += getPersonStr(dialog_dic['participantID'])\n",
    "            dialog += dialog_dic['utterance']\n",
    "        \n",
    "        summary = data_dic['body']['summary']\n",
    "        \n",
    "        # \" 문자 제거\n",
    "        dialog = dialog.replace('\"', '')\n",
    "        summary = summary.replace('\"', '')\n",
    "        \n",
    "        if '\"' in dialog or '\"' in summary:\n",
    "            assert False, \"hoho\"\n",
    "                \n",
    "        dialogues.append(dialog)\n",
    "        summarys.append(summary)\n",
    "\n",
    "    with open(target_filepath, 'a', encoding='utf-8') as file:\n",
    "        for dialogue, summary in zip(dialogues, summarys):\n",
    "            file.write(f'dummyId,\"{dialogue}\",\"{summary}\",dummyTopic\\n')"
   ]
  },
  {
   "cell_type": "code",
   "execution_count": 9,
   "metadata": {},
   "outputs": [
    {
     "data": {
      "text/html": [
       "<div>\n",
       "<style scoped>\n",
       "    .dataframe tbody tr th:only-of-type {\n",
       "        vertical-align: middle;\n",
       "    }\n",
       "\n",
       "    .dataframe tbody tr th {\n",
       "        vertical-align: top;\n",
       "    }\n",
       "\n",
       "    .dataframe thead th {\n",
       "        text-align: right;\n",
       "    }\n",
       "</style>\n",
       "<table border=\"1\" class=\"dataframe\">\n",
       "  <thead>\n",
       "    <tr style=\"text-align: right;\">\n",
       "      <th></th>\n",
       "      <th>fname</th>\n",
       "      <th>dialogue</th>\n",
       "      <th>summary</th>\n",
       "      <th>topic</th>\n",
       "    </tr>\n",
       "  </thead>\n",
       "  <tbody>\n",
       "    <tr>\n",
       "      <th>0</th>\n",
       "      <td>dummyId</td>\n",
       "      <td>#Person1#: 우리 기간 언제까지나고 물어볼 수 없어\\n#Person1#: 재...</td>\n",
       "      <td>아저씨가 재등록에 관하여 물어보면 다음 달은 바빠서 어려울 것 같고 다음에 다시 오...</td>\n",
       "      <td>dummyTopic</td>\n",
       "    </tr>\n",
       "    <tr>\n",
       "      <th>1</th>\n",
       "      <td>dummyId</td>\n",
       "      <td>#Person1#: 아침\\n#Person2#: 헉\\n#Person1#: 잘안먹구\\n...</td>\n",
       "      <td>일찍 일어났지만 아침을 원래 잘 챙겨 먹지 않아서 아침 겸 점심(아점)을 먹을 예정이다.</td>\n",
       "      <td>dummyTopic</td>\n",
       "    </tr>\n",
       "    <tr>\n",
       "      <th>2</th>\n",
       "      <td>dummyId</td>\n",
       "      <td>#Person1#: 18년도 잘한 일임니다\\n#Person2#: 넘나\\n#Perso...</td>\n",
       "      <td>18년도의 잘한 일이고 전설급 여행이었다며 뿌듯해하고 가을 남해에 꼭 다시 가자고 한다.</td>\n",
       "      <td>dummyTopic</td>\n",
       "    </tr>\n",
       "    <tr>\n",
       "      <th>3</th>\n",
       "      <td>dummyId</td>\n",
       "      <td>#Person1#: 나왔당 ㅋ\\n#Person1#: 내일은 폭풍야근 예상이지만ㅋㅋ\\...</td>\n",
       "      <td>오늘 퇴근이 늦을 줄 알고 가족들이 저녁을 먼저 먹었다.</td>\n",
       "      <td>dummyTopic</td>\n",
       "    </tr>\n",
       "    <tr>\n",
       "      <th>4</th>\n",
       "      <td>dummyId</td>\n",
       "      <td>#Person1#: 카톡 사진\\n#Person1#: 한결같노\\n#Person2#: ...</td>\n",
       "      <td>귀여운 중국인을 카톡 프로필 사진으로 설정하고 자신의 유사 손주라고 이야기한다.</td>\n",
       "      <td>dummyTopic</td>\n",
       "    </tr>\n",
       "    <tr>\n",
       "      <th>...</th>\n",
       "      <td>...</td>\n",
       "      <td>...</td>\n",
       "      <td>...</td>\n",
       "      <td>...</td>\n",
       "    </tr>\n",
       "    <tr>\n",
       "      <th>314991</th>\n",
       "      <td>dummyId</td>\n",
       "      <td>#Person1#: 소쿠리 패스 산다\\n#Person2#: 응응 사유!\\n#Pers...</td>\n",
       "      <td>여행에서 사용할 유심을 구매하기위해 의논하고있다.</td>\n",
       "      <td>dummyTopic</td>\n",
       "    </tr>\n",
       "    <tr>\n",
       "      <th>314992</th>\n",
       "      <td>dummyId</td>\n",
       "      <td>#Person1#: ㅋㅋㅋ상은조금더작은거사야되~~\\n#Person2#: 근데이거보다...</td>\n",
       "      <td>상이 이 사이즈보다 작으면 둘이서 밥 먹기 불편해서 그냥 식탁에서 먹고 의자를 두 ...</td>\n",
       "      <td>dummyTopic</td>\n",
       "    </tr>\n",
       "    <tr>\n",
       "      <th>314993</th>\n",
       "      <td>dummyId</td>\n",
       "      <td>#Person1#: 아니 온라인에서 못 사면\\n#Person2#: 내가 찾아가서\\n...</td>\n",
       "      <td>오프라인에서 사야 할지 오프라인에서 사야 할지에 대해 토론한다.</td>\n",
       "      <td>dummyTopic</td>\n",
       "    </tr>\n",
       "    <tr>\n",
       "      <th>314994</th>\n",
       "      <td>dummyId</td>\n",
       "      <td>#Person1#: 빵먹고 아이라이너 사게?\\n#Person2#: 화욜까지는 있는데...</td>\n",
       "      <td>아이라이너를 사려고 했는데 전 매장 품절이어서 인터넷에서 사는 게 마음이 편할 것 같다.</td>\n",
       "      <td>dummyTopic</td>\n",
       "    </tr>\n",
       "    <tr>\n",
       "      <th>314995</th>\n",
       "      <td>dummyId</td>\n",
       "      <td>#Person1#: #@이름#야 너 가방\\n#Person1#: 오래써야지\\n#Per...</td>\n",
       "      <td>가방 검은색이 연청이랑도 어울리고 진청도 무난하게 어울린다고 설득되게 말한다.</td>\n",
       "      <td>dummyTopic</td>\n",
       "    </tr>\n",
       "  </tbody>\n",
       "</table>\n",
       "<p>314996 rows × 4 columns</p>\n",
       "</div>"
      ],
      "text/plain": [
       "          fname                                           dialogue  \\\n",
       "0       dummyId  #Person1#: 우리 기간 언제까지나고 물어볼 수 없어\\n#Person1#: 재...   \n",
       "1       dummyId  #Person1#: 아침\\n#Person2#: 헉\\n#Person1#: 잘안먹구\\n...   \n",
       "2       dummyId  #Person1#: 18년도 잘한 일임니다\\n#Person2#: 넘나\\n#Perso...   \n",
       "3       dummyId  #Person1#: 나왔당 ㅋ\\n#Person1#: 내일은 폭풍야근 예상이지만ㅋㅋ\\...   \n",
       "4       dummyId  #Person1#: 카톡 사진\\n#Person1#: 한결같노\\n#Person2#: ...   \n",
       "...         ...                                                ...   \n",
       "314991  dummyId  #Person1#: 소쿠리 패스 산다\\n#Person2#: 응응 사유!\\n#Pers...   \n",
       "314992  dummyId  #Person1#: ㅋㅋㅋ상은조금더작은거사야되~~\\n#Person2#: 근데이거보다...   \n",
       "314993  dummyId  #Person1#: 아니 온라인에서 못 사면\\n#Person2#: 내가 찾아가서\\n...   \n",
       "314994  dummyId  #Person1#: 빵먹고 아이라이너 사게?\\n#Person2#: 화욜까지는 있는데...   \n",
       "314995  dummyId  #Person1#: #@이름#야 너 가방\\n#Person1#: 오래써야지\\n#Per...   \n",
       "\n",
       "                                                  summary       topic  \n",
       "0       아저씨가 재등록에 관하여 물어보면 다음 달은 바빠서 어려울 것 같고 다음에 다시 오...  dummyTopic  \n",
       "1       일찍 일어났지만 아침을 원래 잘 챙겨 먹지 않아서 아침 겸 점심(아점)을 먹을 예정이다.  dummyTopic  \n",
       "2       18년도의 잘한 일이고 전설급 여행이었다며 뿌듯해하고 가을 남해에 꼭 다시 가자고 한다.  dummyTopic  \n",
       "3                         오늘 퇴근이 늦을 줄 알고 가족들이 저녁을 먼저 먹었다.  dummyTopic  \n",
       "4            귀여운 중국인을 카톡 프로필 사진으로 설정하고 자신의 유사 손주라고 이야기한다.  dummyTopic  \n",
       "...                                                   ...         ...  \n",
       "314991                        여행에서 사용할 유심을 구매하기위해 의논하고있다.  dummyTopic  \n",
       "314992  상이 이 사이즈보다 작으면 둘이서 밥 먹기 불편해서 그냥 식탁에서 먹고 의자를 두 ...  dummyTopic  \n",
       "314993                오프라인에서 사야 할지 오프라인에서 사야 할지에 대해 토론한다.  dummyTopic  \n",
       "314994  아이라이너를 사려고 했는데 전 매장 품절이어서 인터넷에서 사는 게 마음이 편할 것 같다.  dummyTopic  \n",
       "314995        가방 검은색이 연청이랑도 어울리고 진청도 무난하게 어울린다고 설득되게 말한다.  dummyTopic  \n",
       "\n",
       "[314996 rows x 4 columns]"
      ]
     },
     "execution_count": 9,
     "metadata": {},
     "output_type": "execute_result"
    }
   ],
   "source": [
    "import pandas as pd\n",
    "df = pd.read_csv(target_filepath)\n",
    "df"
   ]
  }
 ],
 "metadata": {
  "kernelspec": {
   "display_name": "base",
   "language": "python",
   "name": "python3"
  },
  "language_info": {
   "codemirror_mode": {
    "name": "ipython",
    "version": 3
   },
   "file_extension": ".py",
   "mimetype": "text/x-python",
   "name": "python",
   "nbconvert_exporter": "python",
   "pygments_lexer": "ipython3",
   "version": "3.10.13"
  }
 },
 "nbformat": 4,
 "nbformat_minor": 2
}
