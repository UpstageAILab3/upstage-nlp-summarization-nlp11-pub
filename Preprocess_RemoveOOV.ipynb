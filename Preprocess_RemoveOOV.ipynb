{
 "cells": [
  {
   "cell_type": "code",
   "execution_count": 29,
   "metadata": {},
   "outputs": [],
   "source": [
    "import re\n",
    "\n",
    "def RemoveOov(s):\n",
    "    s = re.sub('\\r', '', s)\n",
    "    return s"
   ]
  },
  {
   "cell_type": "code",
   "execution_count": 27,
   "metadata": {},
   "outputs": [
    {
     "name": "stdout",
     "output_type": "stream",
     "text": [
      "../../data/train.csv ['dialogue', 'summary']\n",
      "../../data/dev.csv ['dialogue', 'summary']\n",
      "../../data/test.csv ['dialogue']\n"
     ]
    }
   ],
   "source": [
    "import pandas as pd\n",
    "import os\n",
    "\n",
    "data_dir = '../../data'\n",
    "\n",
    "taskInfo = {\n",
    "    'train.csv': ['dialogue', 'summary'],\n",
    "    'dev.csv':  ['dialogue', 'summary'],\n",
    "    'test.csv': ['dialogue']\n",
    "}\n",
    "\n",
    "for filename, cols in taskInfo.items():\n",
    "    fullpath = os.path.join(data_dir, filename)\n",
    "    print(fullpath, cols)\n",
    "    \n",
    "    df = pd.read_csv(fullpath)\n",
    "    \n",
    "    for col in cols:\n",
    "        df[col] = df[col].apply(RemoveOov)\n",
    "    \n",
    "        for i, s in enumerate(df[col]):\n",
    "            if '\\r' in s:\n",
    "                assert False, \"OOV 있음!!\"\n",
    "    \n",
    "    df.to_csv(fullpath, encoding='utf-8-sig', index=False)   "
   ]
  }
 ],
 "metadata": {
  "kernelspec": {
   "display_name": "base",
   "language": "python",
   "name": "python3"
  },
  "language_info": {
   "codemirror_mode": {
    "name": "ipython",
    "version": 3
   },
   "file_extension": ".py",
   "mimetype": "text/x-python",
   "name": "python",
   "nbconvert_exporter": "python",
   "pygments_lexer": "ipython3",
   "version": "3.10.13"
  }
 },
 "nbformat": 4,
 "nbformat_minor": 2
}
