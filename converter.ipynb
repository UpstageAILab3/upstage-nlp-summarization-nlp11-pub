{
 "cells": [
  {
   "cell_type": "code",
   "execution_count": 3,
   "metadata": {},
   "outputs": [
    {
     "name": "stdout",
     "output_type": "stream",
     "text": [
      "Collecting openpyxl\n",
      "  Obtaining dependency information for openpyxl from https://files.pythonhosted.org/packages/c0/da/977ded879c29cbd04de313843e76868e6e13408a94ed6b987245dc7c8506/openpyxl-3.1.5-py2.py3-none-any.whl.metadata\n",
      "  Downloading openpyxl-3.1.5-py2.py3-none-any.whl.metadata (2.5 kB)\n",
      "Collecting et-xmlfile (from openpyxl)\n",
      "  Obtaining dependency information for et-xmlfile from https://files.pythonhosted.org/packages/96/c2/3dd434b0108730014f1b96fd286040dc3bcb70066346f7e01ec2ac95865f/et_xmlfile-1.1.0-py3-none-any.whl.metadata\n",
      "  Downloading et_xmlfile-1.1.0-py3-none-any.whl.metadata (1.8 kB)\n",
      "Downloading openpyxl-3.1.5-py2.py3-none-any.whl (250 kB)\n",
      "\u001b[2K   \u001b[90m━━━━━━━━━━━━━━━━━━━━━━━━━━━━━━━━━━━━━━━\u001b[0m \u001b[32m250.9/250.9 kB\u001b[0m \u001b[31m946.2 kB/s\u001b[0m eta \u001b[36m0:00:00\u001b[0m0:01\u001b[0m00:01\u001b[0mm\n",
      "\u001b[?25hDownloading et_xmlfile-1.1.0-py3-none-any.whl (4.7 kB)\n",
      "Installing collected packages: et-xmlfile, openpyxl\n",
      "Successfully installed et-xmlfile-1.1.0 openpyxl-3.1.5\n",
      "\u001b[33mWARNING: Running pip as the 'root' user can result in broken permissions and conflicting behaviour with the system package manager. It is recommended to use a virtual environment instead: https://pip.pypa.io/warnings/venv\u001b[0m\u001b[33m\n",
      "\u001b[0mNote: you may need to restart the kernel to use updated packages.\n"
     ]
    }
   ],
   "source": [
    "pip install openpyxl"
   ]
  },
  {
   "cell_type": "code",
   "execution_count": 2,
   "metadata": {},
   "outputs": [
    {
     "name": "stdout",
     "output_type": "stream",
     "text": [
      "./data/train_cleaned.csv가 성공적으로 train_cleaned.xlsx로 변환되었습니다.\n"
     ]
    }
   ],
   "source": [
    "import pandas as pd\n",
    "\n",
    "# CSV 파일 읽기\n",
    "csv_file = './data/train_cleaned.csv'\n",
    "df = pd.read_csv(csv_file)\n",
    "\n",
    "# XLSX 파일로 저장\n",
    "xlsx_file = 'train_cleaned.xlsx'\n",
    "df.to_excel(xlsx_file, index=False)\n",
    "\n",
    "print(f'{csv_file}가 성공적으로 {xlsx_file}로 변환되었습니다.')"
   ]
  },
  {
   "cell_type": "code",
   "execution_count": 5,
   "metadata": {},
   "outputs": [
    {
     "name": "stdout",
     "output_type": "stream",
     "text": [
      "파일 저장됨: train_1.xlsx\n",
      "파일 저장됨: train_2.xlsx\n",
      "파일 저장됨: train_3.xlsx\n",
      "파일 저장됨: train_4.xlsx\n"
     ]
    }
   ],
   "source": [
    "import pandas as pd\n",
    "import math\n",
    "\n",
    "def split_csv(input_file, output_prefix, num_parts=4):\n",
    "    # CSV 파일 읽기\n",
    "    df = pd.read_csv(input_file)\n",
    "    \n",
    "    # 전체 행 수 계산\n",
    "    total_rows = len(df)\n",
    "    \n",
    "    # 각 부분의 행 수 계산 (올림하여 정수로 만듦)\n",
    "    rows_per_part = math.ceil(total_rows / num_parts)\n",
    "    \n",
    "    # 파일 나누기 및 저장\n",
    "    for i in range(num_parts):\n",
    "        start_index = i * rows_per_part\n",
    "        end_index = min((i + 1) * rows_per_part, total_rows)\n",
    "        \n",
    "        # 부분 데이터프레임 생성\n",
    "        part_df = df.iloc[start_index:end_index]\n",
    "        \n",
    "        # 새 CSV 파일로 저장\n",
    "        output_file = f\"{output_prefix}_{i+1}.xlsx\"\n",
    "        part_df.to_csv(output_file, index=False)\n",
    "        print(f\"파일 저장됨: {output_file}\")\n",
    "\n",
    "# 함수 사용 예\n",
    "input_file = \"./data/train_cleaned.csv\"  # 입력 CSV 파일 이름\n",
    "output_prefix = \"train\"  # 출력 파일 접두사\n",
    "\n",
    "split_csv(input_file, output_prefix)"
   ]
  },
  {
   "cell_type": "code",
   "execution_count": 6,
   "metadata": {},
   "outputs": [
    {
     "name": "stderr",
     "output_type": "stream",
     "text": [
      "/opt/conda/lib/python3.10/site-packages/numpy/core/fromnumeric.py:57: FutureWarning: 'DataFrame.swapaxes' is deprecated and will be removed in a future version. Please use 'DataFrame.transpose' instead.\n",
      "  return bound(*args, **kwds)\n"
     ]
    },
    {
     "ename": "",
     "evalue": "",
     "output_type": "error",
     "traceback": [
      "\u001b[1;31mThe Kernel crashed while executing code in the current cell or a previous cell. \n",
      "\u001b[1;31mPlease review the code in the cell(s) to identify a possible cause of the failure. \n",
      "\u001b[1;31mClick <a href='https://aka.ms/vscodeJupyterKernelCrash'>here</a> for more info. \n",
      "\u001b[1;31mView Jupyter <a href='command:jupyter.viewOutput'>log</a> for further details."
     ]
    }
   ],
   "source": [
    "import pandas as pd\n",
    "import numpy as np\n",
    "\n",
    "chunksize = 4000\n",
    "i = 0\n",
    "df = pd.read_excel('train_cleaned.xlsx')\n",
    "for chunk in np.array_split(df, len(df) // chunksize):\n",
    "    chunk.to_excel('./chunk/excel_{:02d}.xlsx'.format(i), index=True)\n",
    "    i += 1"
   ]
  }
 ],
 "metadata": {
  "kernelspec": {
   "display_name": "Python 3",
   "language": "python",
   "name": "python3"
  },
  "language_info": {
   "codemirror_mode": {
    "name": "ipython",
    "version": 3
   },
   "file_extension": ".py",
   "mimetype": "text/x-python",
   "name": "python",
   "nbconvert_exporter": "python",
   "pygments_lexer": "ipython3",
   "version": "3.10.13"
  }
 },
 "nbformat": 4,
 "nbformat_minor": 2
}
